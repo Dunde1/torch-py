{
 "cells": [
  {
   "cell_type": "code",
   "id": "initial_id",
   "metadata": {
    "collapsed": true,
    "ExecuteTime": {
     "end_time": "2024-08-02T03:12:59.620276Z",
     "start_time": "2024-08-02T03:12:57.086144Z"
    }
   },
   "source": [
    "import torch\n",
    "from torch import nn\n",
    "from torch.utils.data import DataLoader\n",
    "from torch.utils.data import Dataset\n",
    "import matplotlib.pyplot as plt\n",
    "from IPython.display import clear_output\n",
    "import time"
   ],
   "outputs": [],
   "execution_count": 1
  },
  {
   "metadata": {
    "ExecuteTime": {
     "end_time": "2024-08-02T03:12:59.634875Z",
     "start_time": "2024-08-02T03:12:59.621333Z"
    }
   },
   "cell_type": "code",
   "source": [
    "# 데이터 셋\n",
    "# Custom Dataset class\n",
    "class CustomDataset(Dataset):\n",
    "    def __init__(self, data):\n",
    "        self.features, self.labels = data\n",
    "\n",
    "    def __len__(self):\n",
    "        return len(self.features)\n",
    "\n",
    "    def __getitem__(self, idx):\n",
    "        feature = self.features[idx]\n",
    "        label = self.labels[idx]\n",
    "        return feature, label\n",
    "\n",
    "training_data = (torch.randint(0, 10, (100000, 4)) / 10, torch.randint(0, 10, (100000, 1)) / 10)\n",
    "training_dataset = CustomDataset(training_data)\n",
    "\n",
    "test_data = (torch.randint(0, 10, (10000, 4)) / 10, torch.randint(0, 10, (10000, 1)) / 10)\n",
    "test_dataset = CustomDataset(test_data)"
   ],
   "id": "3533c1073a700f1c",
   "outputs": [],
   "execution_count": 2
  },
  {
   "metadata": {
    "ExecuteTime": {
     "end_time": "2024-08-02T03:13:00.984062Z",
     "start_time": "2024-08-02T03:13:00.834385Z"
    }
   },
   "cell_type": "code",
   "source": [
    "# 데이터 로더\n",
    "batch_size = 64\n",
    "\n",
    "train_dataloader = DataLoader(training_dataset, batch_size=batch_size)\n",
    "test_dataloader = DataLoader(test_dataset, batch_size=batch_size)"
   ],
   "id": "97a2f6d90d7f67e3",
   "outputs": [],
   "execution_count": 3
  },
  {
   "metadata": {
    "ExecuteTime": {
     "end_time": "2024-08-02T03:13:02.991483Z",
     "start_time": "2024-08-02T03:13:02.383379Z"
    }
   },
   "cell_type": "code",
   "source": [
    "device = 'cuda' if torch.cuda.is_available() else \"mps\" if torch.backends.mps.is_available() else \"cpu\"\n",
    "\n",
    "class CustomModel(nn.Module):\n",
    "    def __init__(self):\n",
    "        super().__init__()\n",
    "        self.linear_relu_stack = nn.Sequential(\n",
    "            nn.Linear(4, 512),\n",
    "            nn.ReLU(),\n",
    "            nn.Linear(512, 512),\n",
    "            nn.ReLU(),\n",
    "            nn.Linear(512, 10)\n",
    "        )\n",
    "        \n",
    "    def forward(self, x):\n",
    "        logits = self.linear_relu_stack(x)\n",
    "        return logits\n",
    "    \n",
    "model = CustomModel().to(device)\n",
    "loss_fn = nn.MSELoss()\n",
    "optimizer = torch.optim.SGD(model.parameters(), lr=1e-3)\n",
    "print(model)"
   ],
   "id": "605594f071ad16",
   "outputs": [
    {
     "name": "stdout",
     "output_type": "stream",
     "text": [
      "CustomModel(\n",
      "  (linear_relu_stack): Sequential(\n",
      "    (0): Linear(in_features=4, out_features=512, bias=True)\n",
      "    (1): ReLU()\n",
      "    (2): Linear(in_features=512, out_features=512, bias=True)\n",
      "    (3): ReLU()\n",
      "    (4): Linear(in_features=512, out_features=10, bias=True)\n",
      "  )\n",
      ")\n"
     ]
    }
   ],
   "execution_count": 4
  },
  {
   "metadata": {
    "ExecuteTime": {
     "end_time": "2024-08-02T03:13:04.107532Z",
     "start_time": "2024-08-02T03:13:04.078797Z"
    }
   },
   "cell_type": "code",
   "source": [
    "def train(dataloader, model, loss_fn, optimizer):\n",
    "    size = len(dataloader.dataset)\n",
    "\n",
    "    for batch, (X, y) in enumerate(dataloader):\n",
    "        X, y = X.to(device), y.to(device)\n",
    "\n",
    "        pred = model(X)\n",
    "        loss = loss_fn(pred, y)\n",
    "\n",
    "        loss.backward()\n",
    "        optimizer.step()\n",
    "        optimizer.zero_grad()\n",
    "\n",
    "        if batch % 100 == 0:\n",
    "            loss, current = loss.item(), (batch + 1) * len(X)\n",
    "            print(f\"loss: {loss:>7f}  [{current:>5d}/{size:>5d}]\")\n",
    "\n",
    "\n",
    "def test(dataloader, model, loss_fn):\n",
    "    size = len(dataloader.dataset)\n",
    "    num_batches = len(dataloader)\n",
    "    model.eval()\n",
    "    test_loss, correct = 0, 0\n",
    "    items = []\n",
    "    with torch.no_grad():\n",
    "        for X, y in dataloader:\n",
    "            X, y = X.to(device), y.to(device)\n",
    "            pred = model(X)\n",
    "            test_loss += loss_fn(pred, y).item()\n",
    "            correct += (pred.argmax(1) == y).type(torch.float).sum().item()\n",
    "    test_loss /= num_batches\n",
    "    correct /= size\n",
    "    print(f\"Test Error: \\n Accuracy: {correct:>0.1f}%, Avg loss: {test_loss:>8f} \\n\")\n",
    "    return correct"
   ],
   "id": "1794bad3ca45ea7a",
   "outputs": [],
   "execution_count": 5
  },
  {
   "metadata": {},
   "cell_type": "code",
   "source": [
    "epochs = 50\n",
    "acc = 0\n",
    "accs = []\n",
    "\n",
    "start = time.time()\n",
    "for t in range(epochs):\n",
    "    clear_output()\n",
    "    print(f\"Epoch {t+1} {acc}\\n-------------------------------\")\n",
    "    train(train_dataloader, model, loss_fn, optimizer)\n",
    "    acc = test(test_dataloader, model, loss_fn)\n",
    "    accs.append(acc)\n",
    "    if acc > 90:\n",
    "        print(f'stop epoch {t+1}')\n",
    "        epochs = t + 1\n",
    "        break\n",
    "end = time.time()\n",
    "\n",
    "print(f'time {end - start} sec')\n",
    "\n",
    "plt.figure(figsize=(10, 6))\n",
    "plt.title('Training Loss over Epochs')\n",
    "plt.xlabel('epochs')\n",
    "plt.ylabel('acc')\n",
    "plt.grid(True)\n",
    "plt.plot(list(range(0, epochs)), accs, marker='o', linestyle='-', color='b', label='Training Loss')\n",
    "plt.show()\n",
    "\n",
    "print(\"Done!\")"
   ],
   "id": "6ae7d98344a40b3b",
   "execution_count": 6,
   "outputs": [
    {
     "name": "stdout",
     "output_type": "stream",
     "text": [
      "Epoch 9 0.6981\n",
      "-------------------------------\n",
      "loss: 0.072979  [   64/100000]\n",
      "loss: 0.090930  [ 6464/100000]\n",
      "loss: 0.080654  [12864/100000]\n",
      "loss: 0.084754  [19264/100000]\n",
      "loss: 0.068134  [25664/100000]\n",
      "loss: 0.110934  [32064/100000]\n",
      "loss: 0.090445  [38464/100000]\n",
      "loss: 0.081001  [44864/100000]\n",
      "loss: 0.085558  [51264/100000]\n",
      "loss: 0.077768  [57664/100000]\n",
      "loss: 0.074108  [64064/100000]\n",
      "loss: 0.082185  [70464/100000]\n",
      "loss: 0.098959  [76864/100000]\n",
      "loss: 0.093694  [83264/100000]\n",
      "loss: 0.088478  [89664/100000]\n"
     ]
    },
    {
     "ename": "KeyboardInterrupt",
     "evalue": "",
     "output_type": "error",
     "traceback": [
      "\u001B[0;31m---------------------------------------------------------------------------\u001B[0m",
      "\u001B[0;31mKeyboardInterrupt\u001B[0m                         Traceback (most recent call last)",
      "Cell \u001B[0;32mIn[6], line 9\u001B[0m\n\u001B[1;32m      7\u001B[0m clear_output()\n\u001B[1;32m      8\u001B[0m \u001B[38;5;28mprint\u001B[39m(\u001B[38;5;124mf\u001B[39m\u001B[38;5;124m\"\u001B[39m\u001B[38;5;124mEpoch \u001B[39m\u001B[38;5;132;01m{\u001B[39;00mt\u001B[38;5;241m+\u001B[39m\u001B[38;5;241m1\u001B[39m\u001B[38;5;132;01m}\u001B[39;00m\u001B[38;5;124m \u001B[39m\u001B[38;5;132;01m{\u001B[39;00macc\u001B[38;5;132;01m}\u001B[39;00m\u001B[38;5;130;01m\\n\u001B[39;00m\u001B[38;5;124m-------------------------------\u001B[39m\u001B[38;5;124m\"\u001B[39m)\n\u001B[0;32m----> 9\u001B[0m \u001B[43mtrain\u001B[49m\u001B[43m(\u001B[49m\u001B[43mtrain_dataloader\u001B[49m\u001B[43m,\u001B[49m\u001B[43m \u001B[49m\u001B[43mmodel\u001B[49m\u001B[43m,\u001B[49m\u001B[43m \u001B[49m\u001B[43mloss_fn\u001B[49m\u001B[43m,\u001B[49m\u001B[43m \u001B[49m\u001B[43moptimizer\u001B[49m\u001B[43m)\u001B[49m\n\u001B[1;32m     10\u001B[0m acc \u001B[38;5;241m=\u001B[39m test(test_dataloader, model, loss_fn)\n\u001B[1;32m     11\u001B[0m accs\u001B[38;5;241m.\u001B[39mappend(acc)\n",
      "Cell \u001B[0;32mIn[5], line 5\u001B[0m, in \u001B[0;36mtrain\u001B[0;34m(dataloader, model, loss_fn, optimizer)\u001B[0m\n\u001B[1;32m      2\u001B[0m size \u001B[38;5;241m=\u001B[39m \u001B[38;5;28mlen\u001B[39m(dataloader\u001B[38;5;241m.\u001B[39mdataset)\n\u001B[1;32m      4\u001B[0m \u001B[38;5;28;01mfor\u001B[39;00m batch, (X, y) \u001B[38;5;129;01min\u001B[39;00m \u001B[38;5;28menumerate\u001B[39m(dataloader):\n\u001B[0;32m----> 5\u001B[0m     X, y \u001B[38;5;241m=\u001B[39m X\u001B[38;5;241m.\u001B[39mto(device), \u001B[43my\u001B[49m\u001B[38;5;241;43m.\u001B[39;49m\u001B[43mto\u001B[49m\u001B[43m(\u001B[49m\u001B[43mdevice\u001B[49m\u001B[43m)\u001B[49m\n\u001B[1;32m      7\u001B[0m     pred \u001B[38;5;241m=\u001B[39m model(X)\n\u001B[1;32m      8\u001B[0m     loss \u001B[38;5;241m=\u001B[39m loss_fn(pred, y)\n",
      "\u001B[0;31mKeyboardInterrupt\u001B[0m: "
     ]
    }
   ]
  },
  {
   "metadata": {},
   "cell_type": "code",
   "outputs": [],
   "execution_count": null,
   "source": "",
   "id": "e580b8545f93018c"
  }
 ],
 "metadata": {
  "kernelspec": {
   "display_name": "Python 3",
   "language": "python",
   "name": "python3"
  },
  "language_info": {
   "codemirror_mode": {
    "name": "ipython",
    "version": 2
   },
   "file_extension": ".py",
   "mimetype": "text/x-python",
   "name": "python",
   "nbconvert_exporter": "python",
   "pygments_lexer": "ipython2",
   "version": "2.7.6"
  }
 },
 "nbformat": 4,
 "nbformat_minor": 5
}
