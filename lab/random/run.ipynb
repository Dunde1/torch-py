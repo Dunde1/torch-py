{
 "cells": [
  {
   "cell_type": "code",
   "id": "initial_id",
   "metadata": {
    "collapsed": true,
    "ExecuteTime": {
     "end_time": "2024-08-02T11:03:34.850046Z",
     "start_time": "2024-08-02T11:03:34.846069Z"
    }
   },
   "source": [
    "import torch\n",
    "from torch import nn\n",
    "from torch.utils.data import TensorDataset, DataLoader"
   ],
   "outputs": [],
   "execution_count": 2
  },
  {
   "metadata": {
    "ExecuteTime": {
     "end_time": "2024-08-02T12:09:43.958684Z",
     "start_time": "2024-08-02T12:09:40.462932Z"
    }
   },
   "cell_type": "code",
   "source": [
    "data_size = 100\n",
    "\n",
    "training_dataset = TensorDataset(torch.randint(0, 10, (data_size * 10, 4)), torch.randint(0, 10, (data_size * 10,)))\n",
    "test_dataset = TensorDataset(torch.randint(0, 10, (data_size, 4)), torch.randint(0, 10, (data_size,)))\n",
    "\n",
    "print(f'[train_dataset] {training_dataset.tensors[0].shape, training_dataset.tensors[1].shape}')\n",
    "print(f'[test_dataset] {test_dataset.tensors[0].shape, test_dataset.tensors[1].shape}')\n",
    "\n",
    "batch_size = 16\n",
    "\n",
    "training_dataloader = DataLoader(training_dataset, batch_size=batch_size, shuffle=True, num_workers=4)\n",
    "test_dataloader = DataLoader(test_dataset, batch_size=batch_size, shuffle=True, num_workers=4)\n",
    "\n",
    "X, y = next(iter(training_dataloader))\n",
    "print(X.shape, y.shape)\n",
    "print(f'[training_dataloader] {training_dataloader.dataset[0]}')\n",
    "print(f'[test_dataloader] {test_dataloader.dataset[0]}')"
   ],
   "id": "775b5e152f722fa8",
   "outputs": [
    {
     "name": "stdout",
     "output_type": "stream",
     "text": [
      "[train_dataset] (torch.Size([1000, 4]), torch.Size([1000]))\n",
      "[test_dataset] (torch.Size([100, 4]), torch.Size([100]))\n",
      "torch.Size([16, 4]) torch.Size([16])\n",
      "[training_dataloader] (tensor([3, 2, 7, 3]), tensor(9))\n",
      "[test_dataloader] (tensor([3, 2, 4, 7]), tensor(0))\n"
     ]
    }
   ],
   "execution_count": 82
  },
  {
   "metadata": {
    "ExecuteTime": {
     "end_time": "2024-08-02T12:09:44.786360Z",
     "start_time": "2024-08-02T12:09:44.771406Z"
    }
   },
   "cell_type": "code",
   "source": [
    "device = 'cuda' if torch.cuda.is_available() else 'cpu'\n",
    "\n",
    "print(f'[device] {device}')\n",
    "\n",
    "class RandomModel(nn.Module):\n",
    "  def __init__(self):\n",
    "    super().__init__()\n",
    "    self.fc = nn.Sequential(\n",
    "      nn.Linear(4, 16),\n",
    "      nn.ReLU(),\n",
    "      nn.Linear(16, 10),\n",
    "    )\n",
    "    \n",
    "  def forward(self, x):\n",
    "    x = x / 10\n",
    "    return self.fc(x)\n",
    "\n",
    "model = RandomModel().to(device)\n",
    "print(f'[model] {model}')"
   ],
   "id": "5cfb2c7538425945",
   "outputs": [
    {
     "name": "stdout",
     "output_type": "stream",
     "text": [
      "[device] cuda\n",
      "[model] RandomModel(\n",
      "  (fc): Sequential(\n",
      "    (0): Linear(in_features=4, out_features=16, bias=True)\n",
      "    (1): ReLU()\n",
      "    (2): Linear(in_features=16, out_features=10, bias=True)\n",
      "  )\n",
      ")\n"
     ]
    }
   ],
   "execution_count": 83
  },
  {
   "metadata": {
    "ExecuteTime": {
     "end_time": "2024-08-02T12:09:45.402224Z",
     "start_time": "2024-08-02T12:09:45.398452Z"
    }
   },
   "cell_type": "code",
   "source": [
    "loss_fn = nn.CrossEntropyLoss()\n",
    "optimizer = torch.optim.Adam(model.parameters(), lr=1e-3)"
   ],
   "id": "f5bedc3f933c6c7a",
   "outputs": [],
   "execution_count": 84
  },
  {
   "metadata": {
    "ExecuteTime": {
     "end_time": "2024-08-02T12:09:45.764188Z",
     "start_time": "2024-08-02T12:09:45.757025Z"
    }
   },
   "cell_type": "code",
   "source": [
    "def train(model: RandomModel, training_dataloader, loss_fn: nn.CrossEntropyLoss, optimizer):\n",
    "  for batch_idx, (X, y) in enumerate(training_dataloader):\n",
    "    optimizer.zero_grad()\n",
    "    X, y = X.to(device), y.to(device)\n",
    "    y_pred = model(X)\n",
    "    loss = loss_fn(y_pred, y)\n",
    "\n",
    "    loss.backward()\n",
    "    optimizer.step()\n",
    "\n",
    "    if batch_idx % 1 == 0:\n",
    "      print(f'[{batch_idx + 1}/{len(training_dataloader)}] Loss: {loss.item():.4f}')"
   ],
   "id": "44fc28b5ddb65d01",
   "outputs": [],
   "execution_count": 85
  },
  {
   "metadata": {
    "ExecuteTime": {
     "end_time": "2024-08-02T12:09:46.259724Z",
     "start_time": "2024-08-02T12:09:46.254465Z"
    }
   },
   "cell_type": "code",
   "source": [
    "def test(model: RandomModel, test_dataloader, loss_fn: nn.CrossEntropyLoss):\n",
    "  size = len(test_dataloader.dataset)\n",
    "  for batch_idx, (X, y) in enumerate(test_dataloader):\n",
    "    model.eval()\n",
    "    test_loss, correct = 0., 0.\n",
    "    with torch.no_grad():\n",
    "      for X, y in test_dataloader:\n",
    "        X, y = X.to(device), y.to(device)\n",
    "        y_pred: torch.Tensor = model(X)\n",
    "        loss_value: float = loss_fn(y_pred, y).item()\n",
    "        test_loss += loss_value\n",
    "        print(f'test : {y_pred.argmax(1), y}')\n",
    "        correct += (y_pred.argmax(1) == y).type(torch.float).sum().item()\n",
    "  print(f'[test] Loss: {test_loss:.4f} Acc: {correct/size:.4f}')"
   ],
   "id": "b092821a7824faab",
   "outputs": [],
   "execution_count": 86
  },
  {
   "metadata": {
    "ExecuteTime": {
     "end_time": "2024-08-02T12:10:17.725533Z",
     "start_time": "2024-08-02T12:09:47.041954Z"
    }
   },
   "cell_type": "code",
   "source": [
    "train(model, training_dataloader, loss_fn, optimizer)\n",
    "test(model, test_dataloader, loss_fn)"
   ],
   "id": "4732129d1eed2788",
   "outputs": [
    {
     "name": "stdout",
     "output_type": "stream",
     "text": [
      "[1/63] Loss: 2.3312\n",
      "[2/63] Loss: 2.2944\n",
      "[3/63] Loss: 2.2827\n",
      "[4/63] Loss: 2.3623\n",
      "[5/63] Loss: 2.3468\n",
      "[6/63] Loss: 2.3621\n",
      "[7/63] Loss: 2.2736\n",
      "[8/63] Loss: 2.2637\n",
      "[9/63] Loss: 2.3049\n",
      "[10/63] Loss: 2.3317\n",
      "[11/63] Loss: 2.3883\n",
      "[12/63] Loss: 2.3300\n",
      "[13/63] Loss: 2.3424\n",
      "[14/63] Loss: 2.2609\n",
      "[15/63] Loss: 2.3280\n",
      "[16/63] Loss: 2.2304\n",
      "[17/63] Loss: 2.2719\n",
      "[18/63] Loss: 2.3268\n",
      "[19/63] Loss: 2.3283\n",
      "[20/63] Loss: 2.3373\n",
      "[21/63] Loss: 2.3388\n",
      "[22/63] Loss: 2.3188\n",
      "[23/63] Loss: 2.3411\n",
      "[24/63] Loss: 2.2956\n",
      "[25/63] Loss: 2.3229\n",
      "[26/63] Loss: 2.3546\n",
      "[27/63] Loss: 2.3033\n",
      "[28/63] Loss: 2.2890\n",
      "[29/63] Loss: 2.3057\n",
      "[30/63] Loss: 2.1913\n",
      "[31/63] Loss: 2.2494\n",
      "[32/63] Loss: 2.3399\n",
      "[33/63] Loss: 2.3455\n",
      "[34/63] Loss: 2.3157\n",
      "[35/63] Loss: 2.2638\n",
      "[36/63] Loss: 2.2749\n",
      "[37/63] Loss: 2.3323\n",
      "[38/63] Loss: 2.3210\n",
      "[39/63] Loss: 2.3177\n",
      "[40/63] Loss: 2.3178\n",
      "[41/63] Loss: 2.3498\n",
      "[42/63] Loss: 2.2859\n",
      "[43/63] Loss: 2.2778\n",
      "[44/63] Loss: 2.2882\n",
      "[45/63] Loss: 2.2645\n",
      "[46/63] Loss: 2.3282\n",
      "[47/63] Loss: 2.2580\n",
      "[48/63] Loss: 2.3491\n",
      "[49/63] Loss: 2.2949\n",
      "[50/63] Loss: 2.2946\n",
      "[51/63] Loss: 2.2566\n",
      "[52/63] Loss: 2.3112\n",
      "[53/63] Loss: 2.3215\n",
      "[54/63] Loss: 2.3426\n",
      "[55/63] Loss: 2.2885\n",
      "[56/63] Loss: 2.3016\n",
      "[57/63] Loss: 2.3043\n",
      "[58/63] Loss: 2.3322\n",
      "[59/63] Loss: 2.3069\n",
      "[60/63] Loss: 2.3187\n",
      "[61/63] Loss: 2.2769\n",
      "[62/63] Loss: 2.3112\n",
      "[63/63] Loss: 2.3469\n",
      "test : (tensor([2, 2, 2, 2, 2, 2, 2, 2, 2, 2, 2, 2, 2, 2, 2, 2], device='cuda:0'), tensor([5, 9, 6, 9, 6, 3, 4, 6, 8, 6, 1, 3, 4, 6, 7, 6], device='cuda:0'))\n",
      "test : (tensor([2, 2, 2, 2, 2, 2, 2, 2, 2, 2, 2, 2, 2, 2, 2, 2], device='cuda:0'), tensor([2, 8, 7, 9, 5, 1, 0, 7, 8, 8, 8, 2, 1, 7, 2, 7], device='cuda:0'))\n",
      "test : (tensor([2, 2, 2, 2, 2, 2, 2, 2, 2, 2, 2, 2, 2, 2, 2, 2], device='cuda:0'), tensor([3, 4, 0, 9, 6, 6, 4, 6, 4, 2, 6, 6, 7, 6, 6, 2], device='cuda:0'))\n",
      "test : (tensor([2, 2, 2, 2, 2, 2, 2, 2, 2, 2, 2, 2, 2, 2, 2, 2], device='cuda:0'), tensor([6, 6, 5, 1, 5, 5, 9, 0, 3, 5, 1, 6, 5, 8, 9, 1], device='cuda:0'))\n",
      "test : (tensor([2, 2, 2, 2, 2, 2, 2, 2, 2, 2, 2, 2, 2, 2, 2, 2], device='cuda:0'), tensor([0, 3, 2, 3, 6, 3, 2, 5, 6, 8, 7, 8, 9, 9, 3, 4], device='cuda:0'))\n",
      "test : (tensor([2, 2, 2, 2, 2, 2, 2, 2, 2, 2, 2, 2, 2, 2, 2, 2], device='cuda:0'), tensor([3, 0, 6, 3, 1, 7, 3, 4, 0, 4, 0, 7, 9, 3, 8, 6], device='cuda:0'))\n",
      "test : (tensor([2, 2, 2, 2], device='cuda:0'), tensor([0, 3, 4, 4], device='cuda:0'))\n",
      "test : (tensor([2, 2, 2, 2, 2, 2, 2, 2, 2, 2, 2, 2, 2, 2, 2, 2], device='cuda:0'), tensor([6, 6, 3, 6, 0, 6, 0, 0, 7, 6, 9, 3, 5, 7, 6, 8], device='cuda:0'))\n",
      "test : (tensor([2, 2, 2, 2, 2, 2, 2, 2, 2, 2, 2, 2, 2, 2, 2, 2], device='cuda:0'), tensor([7, 6, 1, 4, 3, 0, 6, 4, 8, 7, 2, 9, 2, 4, 1, 3], device='cuda:0'))\n",
      "test : (tensor([2, 2, 2, 2, 2, 2, 2, 2, 2, 2, 2, 2, 2, 2, 2, 2], device='cuda:0'), tensor([0, 9, 1, 7, 8, 7, 4, 4, 6, 6, 3, 5, 5, 1, 6, 5], device='cuda:0'))\n",
      "test : (tensor([2, 2, 2, 2, 2, 2, 2, 2, 2, 2, 2, 2, 2, 2, 2, 2], device='cuda:0'), tensor([6, 6, 3, 6, 4, 4, 1, 0, 3, 2, 5, 6, 2, 0, 9, 8], device='cuda:0'))\n",
      "test : (tensor([2, 2, 2, 2, 2, 2, 2, 2, 2, 2, 2, 2, 2, 2, 2, 2], device='cuda:0'), tensor([7, 3, 9, 3, 6, 9, 7, 5, 5, 8, 9, 6, 5, 6, 2, 3], device='cuda:0'))\n",
      "test : (tensor([2, 2, 2, 2, 2, 2, 2, 2, 2, 2, 2, 2, 2, 2, 2, 2], device='cuda:0'), tensor([8, 8, 2, 4, 1, 4, 6, 4, 9, 6, 3, 8, 2, 3, 8, 9], device='cuda:0'))\n",
      "test : (tensor([2, 2, 2, 2], device='cuda:0'), tensor([0, 7, 3, 1], device='cuda:0'))\n",
      "test : (tensor([2, 2, 2, 2, 2, 2, 2, 2, 2, 2, 2, 2, 2, 2, 2, 2], device='cuda:0'), tensor([9, 8, 1, 3, 3, 8, 7, 8, 2, 1, 0, 6, 8, 3, 9, 4], device='cuda:0'))\n",
      "test : (tensor([2, 2, 2, 2, 2, 2, 2, 2, 2, 2, 2, 2, 2, 2, 2, 2], device='cuda:0'), tensor([9, 1, 9, 3, 6, 2, 7, 2, 6, 3, 6, 2, 3, 4, 7, 0], device='cuda:0'))\n",
      "test : (tensor([2, 2, 2, 2, 2, 2, 2, 2, 2, 2, 2, 2, 2, 2, 2, 2], device='cuda:0'), tensor([4, 7, 6, 4, 7, 2, 3, 5, 0, 6, 6, 6, 6, 6, 6, 3], device='cuda:0'))\n",
      "test : (tensor([2, 2, 2, 2, 2, 2, 2, 2, 2, 2, 2, 2, 2, 2, 2, 2], device='cuda:0'), tensor([4, 4, 6, 1, 6, 8, 7, 0, 8, 8, 5, 1, 6, 5, 5, 6], device='cuda:0'))\n",
      "test : (tensor([2, 2, 2, 2, 2, 2, 2, 2, 2, 2, 2, 2, 2, 2, 2, 2], device='cuda:0'), tensor([0, 3, 3, 4, 4, 4, 1, 8, 6, 0, 9, 5, 9, 9, 2, 3], device='cuda:0'))\n",
      "test : (tensor([2, 2, 2, 2, 2, 2, 2, 2, 2, 2, 2, 2, 2, 2, 2, 2], device='cuda:0'), tensor([6, 9, 0, 9, 7, 6, 2, 7, 5, 5, 3, 3, 6, 4, 7, 6], device='cuda:0'))\n",
      "test : (tensor([2, 2, 2, 2], device='cuda:0'), tensor([5, 8, 1, 0], device='cuda:0'))\n",
      "test : (tensor([2, 2, 2, 2, 2, 2, 2, 2, 2, 2, 2, 2, 2, 2, 2, 2], device='cuda:0'), tensor([4, 4, 2, 6, 3, 6, 4, 1, 0, 6, 0, 4, 8, 6, 0, 1], device='cuda:0'))\n",
      "test : (tensor([2, 2, 2, 2, 2, 2, 2, 2, 2, 2, 2, 2, 2, 2, 2, 2], device='cuda:0'), tensor([2, 4, 4, 1, 5, 6, 3, 8, 9, 6, 6, 8, 3, 5, 6, 3], device='cuda:0'))\n",
      "test : (tensor([2, 2, 2, 2, 2, 2, 2, 2, 2, 2, 2, 2, 2, 2, 2, 2], device='cuda:0'), tensor([9, 4, 9, 9, 9, 9, 4, 2, 8, 4, 5, 1, 3, 0, 2, 5], device='cuda:0'))\n",
      "test : (tensor([2, 2, 2, 2, 2, 2, 2, 2, 2, 2, 2, 2, 2, 2, 2, 2], device='cuda:0'), tensor([6, 5, 7, 3, 9, 1, 0, 7, 6, 3, 7, 7, 1, 0, 3, 7], device='cuda:0'))\n",
      "test : (tensor([2, 2, 2, 2, 2, 2, 2, 2, 2, 2, 2, 2, 2, 2, 2, 2], device='cuda:0'), tensor([6, 7, 8, 6, 4, 2, 3, 6, 6, 5, 2, 7, 8, 5, 3, 8], device='cuda:0'))\n",
      "test : (tensor([2, 2, 2, 2, 2, 2, 2, 2, 2, 2, 2, 2, 2, 2, 2, 2], device='cuda:0'), tensor([6, 7, 6, 7, 5, 0, 6, 6, 0, 9, 3, 6, 8, 8, 3, 2], device='cuda:0'))\n",
      "test : (tensor([2, 2, 2, 2], device='cuda:0'), tensor([3, 1, 6, 9], device='cuda:0'))\n",
      "test : (tensor([2, 2, 2, 2, 2, 2, 2, 2, 2, 2, 2, 2, 2, 2, 2, 2], device='cuda:0'), tensor([6, 2, 4, 5, 5, 4, 9, 4, 8, 9, 8, 7, 0, 3, 8, 6], device='cuda:0'))\n",
      "test : (tensor([2, 2, 2, 2, 2, 2, 2, 2, 2, 2, 2, 2, 2, 2, 2, 2], device='cuda:0'), tensor([8, 8, 1, 3, 9, 4, 0, 6, 8, 4, 7, 9, 3, 3, 7, 2], device='cuda:0'))\n",
      "test : (tensor([2, 2, 2, 2, 2, 2, 2, 2, 2, 2, 2, 2, 2, 2, 2, 2], device='cuda:0'), tensor([6, 6, 5, 1, 6, 4, 3, 3, 6, 6, 2, 1, 0, 8, 7, 4], device='cuda:0'))\n",
      "test : (tensor([2, 2, 2, 2, 2, 2, 2, 2, 2, 2, 2, 2, 2, 2, 2, 2], device='cuda:0'), tensor([1, 6, 9, 3, 4, 1, 2, 1, 3, 7, 9, 9, 5, 2, 7, 2], device='cuda:0'))\n",
      "test : (tensor([2, 2, 2, 2, 2, 2, 2, 2, 2, 2, 2, 2, 2, 2, 2, 2], device='cuda:0'), tensor([3, 8, 5, 2, 9, 7, 6, 5, 3, 6, 0, 6, 6, 5, 3, 0], device='cuda:0'))\n",
      "test : (tensor([2, 2, 2, 2, 2, 2, 2, 2, 2, 2, 2, 2, 2, 2, 2, 2], device='cuda:0'), tensor([7, 3, 7, 0, 9, 6, 5, 6, 1, 6, 0, 3, 6, 6, 4, 0], device='cuda:0'))\n",
      "test : (tensor([2, 2, 2, 2], device='cuda:0'), tensor([6, 4, 6, 8], device='cuda:0'))\n",
      "test : (tensor([2, 2, 2, 2, 2, 2, 2, 2, 2, 2, 2, 2, 2, 2, 2, 2], device='cuda:0'), tensor([3, 3, 6, 6, 0, 4, 3, 0, 6, 6, 3, 4, 2, 0, 5, 6], device='cuda:0'))\n",
      "test : (tensor([2, 2, 2, 2, 2, 2, 2, 2, 2, 2, 2, 2, 2, 2, 2, 2], device='cuda:0'), tensor([4, 4, 4, 5, 8, 3, 7, 1, 4, 5, 7, 0, 8, 8, 6, 2], device='cuda:0'))\n",
      "test : (tensor([2, 2, 2, 2, 2, 2, 2, 2, 2, 2, 2, 2, 2, 2, 2, 2], device='cuda:0'), tensor([2, 8, 9, 1, 3, 3, 1, 6, 5, 3, 7, 7, 2, 6, 8, 9], device='cuda:0'))\n",
      "test : (tensor([2, 2, 2, 2, 2, 2, 2, 2, 2, 2, 2, 2, 2, 2, 2, 2], device='cuda:0'), tensor([0, 6, 1, 1, 3, 1, 6, 7, 8, 6, 5, 1, 6, 2, 6, 3], device='cuda:0'))\n",
      "test : (tensor([2, 2, 2, 2, 2, 2, 2, 2, 2, 2, 2, 2, 2, 2, 2, 2], device='cuda:0'), tensor([9, 4, 4, 6, 9, 9, 9, 2, 7, 7, 9, 6, 5, 6, 3, 2], device='cuda:0'))\n",
      "test : (tensor([2, 2, 2, 2, 2, 2, 2, 2, 2, 2, 2, 2, 2, 2, 2, 2], device='cuda:0'), tensor([0, 8, 6, 5, 0, 9, 4, 3, 6, 3, 8, 0, 6, 7, 7, 5], device='cuda:0'))\n",
      "test : (tensor([2, 2, 2, 2], device='cuda:0'), tensor([9, 4, 6, 8], device='cuda:0'))\n",
      "test : (tensor([2, 2, 2, 2, 2, 2, 2, 2, 2, 2, 2, 2, 2, 2, 2, 2], device='cuda:0'), tensor([9, 6, 7, 3, 2, 2, 8, 9, 6, 8, 8, 6, 5, 3, 5, 6], device='cuda:0'))\n",
      "test : (tensor([2, 2, 2, 2, 2, 2, 2, 2, 2, 2, 2, 2, 2, 2, 2, 2], device='cuda:0'), tensor([6, 3, 4, 4, 6, 2, 8, 3, 4, 6, 9, 6, 4, 6, 1, 1], device='cuda:0'))\n",
      "test : (tensor([2, 2, 2, 2, 2, 2, 2, 2, 2, 2, 2, 2, 2, 2, 2, 2], device='cuda:0'), tensor([5, 1, 8, 3, 5, 4, 9, 8, 1, 9, 7, 4, 4, 1, 3, 7], device='cuda:0'))\n",
      "test : (tensor([2, 2, 2, 2, 2, 2, 2, 2, 2, 2, 2, 2, 2, 2, 2, 2], device='cuda:0'), tensor([6, 0, 6, 7, 6, 8, 6, 4, 7, 1, 7, 2, 2, 3, 3, 0], device='cuda:0'))\n",
      "test : (tensor([2, 2, 2, 2, 2, 2, 2, 2, 2, 2, 2, 2, 2, 2, 2, 2], device='cuda:0'), tensor([1, 0, 6, 0, 6, 8, 9, 3, 6, 9, 9, 2, 0, 0, 4, 6], device='cuda:0'))\n",
      "test : (tensor([2, 2, 2, 2, 2, 2, 2, 2, 2, 2, 2, 2, 2, 2, 2, 2], device='cuda:0'), tensor([6, 0, 7, 3, 7, 8, 5, 2, 7, 0, 5, 3, 5, 6, 4, 3], device='cuda:0'))\n",
      "test : (tensor([2, 2, 2, 2], device='cuda:0'), tensor([6, 5, 9, 3], device='cuda:0'))\n",
      "[test] Loss: 16.2723 Acc: 0.0700\n"
     ]
    }
   ],
   "execution_count": 87
  },
  {
   "metadata": {},
   "cell_type": "code",
   "outputs": [],
   "execution_count": null,
   "source": "",
   "id": "b81b058ddf8caf02"
  }
 ],
 "metadata": {
  "kernelspec": {
   "display_name": "Python 3",
   "language": "python",
   "name": "python3"
  },
  "language_info": {
   "codemirror_mode": {
    "name": "ipython",
    "version": 2
   },
   "file_extension": ".py",
   "mimetype": "text/x-python",
   "name": "python",
   "nbconvert_exporter": "python",
   "pygments_lexer": "ipython2",
   "version": "2.7.6"
  }
 },
 "nbformat": 4,
 "nbformat_minor": 5
}
