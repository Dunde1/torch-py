{
 "cells": [
  {
   "cell_type": "code",
   "id": "initial_id",
   "metadata": {
    "collapsed": true,
    "ExecuteTime": {
     "end_time": "2024-08-02T12:00:01.330531Z",
     "start_time": "2024-08-02T11:59:59.389989Z"
    }
   },
   "source": "import torch",
   "outputs": [],
   "execution_count": 1
  },
  {
   "metadata": {
    "ExecuteTime": {
     "end_time": "2024-08-02T12:03:53.706054Z",
     "start_time": "2024-08-02T12:03:53.694868Z"
    }
   },
   "cell_type": "code",
   "source": [
    "a = torch.tensor([[1, 2], [3, 4], [5, 7], [5, 9], [2, 1], [3, 7], [96, 5]])\n",
    "c = (a.argmax(1) == 1).type(torch.float)\n",
    "\n",
    "print(c)"
   ],
   "id": "42c9718682152b74",
   "outputs": [
    {
     "name": "stdout",
     "output_type": "stream",
     "text": [
      "tensor([1., 1., 1., 1., 0., 1., 0.])\n"
     ]
    }
   ],
   "execution_count": 11
  }
 ],
 "metadata": {
  "kernelspec": {
   "display_name": "Python 3",
   "language": "python",
   "name": "python3"
  },
  "language_info": {
   "codemirror_mode": {
    "name": "ipython",
    "version": 2
   },
   "file_extension": ".py",
   "mimetype": "text/x-python",
   "name": "python",
   "nbconvert_exporter": "python",
   "pygments_lexer": "ipython2",
   "version": "2.7.6"
  }
 },
 "nbformat": 4,
 "nbformat_minor": 5
}
