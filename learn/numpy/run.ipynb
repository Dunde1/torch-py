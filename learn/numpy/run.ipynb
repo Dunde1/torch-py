{
 "cells": [
  {
   "cell_type": "code",
   "id": "initial_id",
   "metadata": {
    "collapsed": true,
    "ExecuteTime": {
     "end_time": "2024-07-29T23:52:26.465814Z",
     "start_time": "2024-07-29T23:52:26.401610Z"
    }
   },
   "source": "import numpy as np",
   "outputs": [],
   "execution_count": 1
  },
  {
   "metadata": {
    "ExecuteTime": {
     "end_time": "2024-07-29T23:52:27.757114Z",
     "start_time": "2024-07-29T23:52:27.749122Z"
    }
   },
   "cell_type": "code",
   "source": [
    "a = np.array([1, 2, 3])\n",
    "a, a.shape"
   ],
   "id": "ece9f119aae9076b",
   "outputs": [
    {
     "data": {
      "text/plain": [
       "(array([1, 2, 3]), (3,))"
      ]
     },
     "execution_count": 2,
     "metadata": {},
     "output_type": "execute_result"
    }
   ],
   "execution_count": 2
  },
  {
   "metadata": {
    "ExecuteTime": {
     "end_time": "2024-07-29T23:52:28.918568Z",
     "start_time": "2024-07-29T23:52:28.913257Z"
    }
   },
   "cell_type": "code",
   "source": [
    "print(np.argmax(a))\n",
    "print(a.argmax())"
   ],
   "id": "ef0d8ac9e6b1483b",
   "outputs": [
    {
     "name": "stdout",
     "output_type": "stream",
     "text": [
      "2\n",
      "2\n"
     ]
    }
   ],
   "execution_count": 3
  },
  {
   "metadata": {
    "ExecuteTime": {
     "end_time": "2024-07-30T00:00:45.631604Z",
     "start_time": "2024-07-30T00:00:45.628772Z"
    }
   },
   "cell_type": "code",
   "source": [
    "b = np.array([[1, 2, 3], [4, 5, 6], [7, 8, 9]])\n",
    "print(b[:, :2])"
   ],
   "id": "8f581b95744bc293",
   "outputs": [
    {
     "name": "stdout",
     "output_type": "stream",
     "text": [
      "[[1 2]\n",
      " [4 5]\n",
      " [7 8]]\n"
     ]
    }
   ],
   "execution_count": 10
  },
  {
   "metadata": {
    "ExecuteTime": {
     "end_time": "2024-07-30T00:15:26.844343Z",
     "start_time": "2024-07-30T00:15:26.840903Z"
    }
   },
   "cell_type": "code",
   "source": [
    "c = np.array([1, 2, 3])\n",
    "d = np.array([4, 5, 6])\n",
    "print(np.dot(c, d))"
   ],
   "id": "2ed23ed28d04601f",
   "outputs": [
    {
     "name": "stdout",
     "output_type": "stream",
     "text": [
      "32\n"
     ]
    }
   ],
   "execution_count": 21
  },
  {
   "metadata": {
    "ExecuteTime": {
     "end_time": "2024-07-30T00:17:26.866122Z",
     "start_time": "2024-07-30T00:17:26.862759Z"
    }
   },
   "cell_type": "code",
   "source": [
    "e = np.array([[2, 1], [1, 4]])\n",
    "f = np.array([[1, 2, 0], [0, 1, 2]])\n",
    "print(np.matmul(e, f))\n",
    "print(np.dot(e, f))"
   ],
   "id": "178384d112dc953e",
   "outputs": [
    {
     "name": "stdout",
     "output_type": "stream",
     "text": [
      "[[2 5 2]\n",
      " [1 6 8]]\n",
      "[[2 5 2]\n",
      " [1 6 8]]\n"
     ]
    }
   ],
   "execution_count": 25
  },
  {
   "metadata": {
    "ExecuteTime": {
     "end_time": "2024-07-30T00:18:45.374813Z",
     "start_time": "2024-07-30T00:18:45.371849Z"
    }
   },
   "cell_type": "code",
   "source": "list(range(9))",
   "id": "7832a1fc1db0e26d",
   "outputs": [
    {
     "data": {
      "text/plain": [
       "[0, 1, 2, 3, 4, 5, 6, 7, 8]"
      ]
     },
     "execution_count": 27,
     "metadata": {},
     "output_type": "execute_result"
    }
   ],
   "execution_count": 27
  },
  {
   "metadata": {
    "ExecuteTime": {
     "end_time": "2024-07-30T00:19:01.436357Z",
     "start_time": "2024-07-30T00:19:01.432677Z"
    }
   },
   "cell_type": "code",
   "source": [
    "A = np.arange(9).reshape(3, 3)\n",
    "print(A)"
   ],
   "id": "484d0fe9f726837d",
   "outputs": [
    {
     "name": "stdout",
     "output_type": "stream",
     "text": [
      "[[0 1 2]\n",
      " [3 4 5]\n",
      " [6 7 8]]\n"
     ]
    }
   ],
   "execution_count": 28
  },
  {
   "metadata": {
    "ExecuteTime": {
     "end_time": "2024-07-30T00:19:43.611650Z",
     "start_time": "2024-07-30T00:19:43.609507Z"
    }
   },
   "cell_type": "code",
   "source": "print(A.T)",
   "id": "3ffecf8904886d9d",
   "outputs": [
    {
     "name": "stdout",
     "output_type": "stream",
     "text": [
      "[[0 3 6]\n",
      " [1 4 7]\n",
      " [2 5 8]]\n"
     ]
    }
   ],
   "execution_count": 31
  }
 ],
 "metadata": {
  "kernelspec": {
   "display_name": "Python 3",
   "language": "python",
   "name": "python3"
  },
  "language_info": {
   "codemirror_mode": {
    "name": "ipython",
    "version": 2
   },
   "file_extension": ".py",
   "mimetype": "text/x-python",
   "name": "python",
   "nbconvert_exporter": "python",
   "pygments_lexer": "ipython2",
   "version": "2.7.6"
  }
 },
 "nbformat": 4,
 "nbformat_minor": 5
}
