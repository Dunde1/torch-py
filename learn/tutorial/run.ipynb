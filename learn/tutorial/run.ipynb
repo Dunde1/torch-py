{
 "cells": [
  {
   "metadata": {},
   "cell_type": "markdown",
   "source": [
    "파이토치(PyTorch)에는 데이터 작업을 위한 기본 요소 두가지인 torch.utils.data.DataLoader 와 torch.utils.data.Dataset 가 있습니다.\n",
    "\n",
    "Dataset 은 샘플과 정답(label)을 저장하고, DataLoader 는 Dataset 을 순회 가능한 객체(iterable)로 감쌉니다."
   ],
   "id": "b996906cede80f9b"
  },
  {
   "metadata": {
    "ExecuteTime": {
     "end_time": "2024-08-01T04:04:25.453569Z",
     "start_time": "2024-08-01T04:04:22.606359Z"
    }
   },
   "cell_type": "code",
   "source": [
    "import torch\n",
    "from torch import nn\n",
    "from torch.utils.data import DataLoader\n",
    "from torchvision import datasets\n",
    "from torchvision.transforms import ToTensor"
   ],
   "id": "initial_id",
   "outputs": [],
   "execution_count": 2
  },
  {
   "metadata": {},
   "cell_type": "markdown",
   "source": [
    "PyTorch는 TorchText, TorchVision 및 TorchAudio 와 같이 도메인 특화 라이브러리를 데이터셋과 함께 제공하고 있습니다.\n",
    "\n",
    "이 튜토리얼에서는 TorchVision 데이터셋을 사용하도록 하겠습니다.\n",
    "\n",
    "torchvision.datasets 모듈은 CIFAR, COCO 등과 같은 다양한 실제 비전(vision) 데이터에 대한 Dataset(전체 목록은 여기)을 포함하고 있습니다.\n",
    "\n",
    "이 튜토리얼에서는 FasionMNIST 데이터셋을 사용합니다.\n",
    "\n",
    "모든 TorchVision Dataset 은 샘플과 정답을 각각 변경하기 위한 transform 과 target_transform 의 두 인자를 포함합니다."
   ],
   "id": "fc80625c61c52bf3"
  },
  {
   "metadata": {
    "ExecuteTime": {
     "end_time": "2024-08-01T04:04:26.270576Z",
     "start_time": "2024-08-01T04:04:26.228322Z"
    }
   },
   "cell_type": "code",
   "source": [
    "# 공개 데이터셋에서 학습 데이터를 내려받습니다.\n",
    "training_data = datasets.FashionMNIST(\n",
    "    root=\"data\",\n",
    "    train=True,\n",
    "    download=True,\n",
    "    transform=ToTensor(),\n",
    ")\n",
    "\n",
    "# 공개 데이터셋에서 테스트 데이터를 내려받습니다.\n",
    "test_data = datasets.FashionMNIST(\n",
    "    root=\"data\",\n",
    "    train=False,\n",
    "    download=True,\n",
    "    transform=ToTensor(),\n",
    ")\n",
    "\n",
    "training_data"
   ],
   "id": "d18722a2855cf90b",
   "outputs": [
    {
     "data": {
      "text/plain": [
       "Dataset FashionMNIST\n",
       "    Number of datapoints: 60000\n",
       "    Root location: data\n",
       "    Split: Train\n",
       "    StandardTransform\n",
       "Transform: ToTensor()"
      ]
     },
     "execution_count": 3,
     "metadata": {},
     "output_type": "execute_result"
    }
   ],
   "execution_count": 3
  },
  {
   "metadata": {},
   "cell_type": "markdown",
   "source": [
    "Dataset 을 DataLoader 의 인자로 전달합니다.\n",
    "\n",
    "이는 데이터셋을 순회 가능한 객체(iterable)로 감싸고, 자동화된 배치(batch), 샘플링(sampling), 섞기(shuffle) 및 다중 프로세스로 데이터 불러오기(multiprocess data loading)를 지원합니다.\n",
    "\n",
    "여기서는 배치 크기(batch size)를 64로 정의합니다.\n",
    "\n",
    "즉, 데이터로더(dataloader) 객체의 각 요소는 64개의 특징(feature)과 정답(label)을 묶음(batch)으로 반환합니다."
   ],
   "id": "5e6c66ad8ccf83a8"
  },
  {
   "metadata": {
    "ExecuteTime": {
     "end_time": "2024-07-31T05:33:52.229464Z",
     "start_time": "2024-07-31T05:33:49.082906Z"
    }
   },
   "cell_type": "code",
   "source": [
    "batch_size = 16\n",
    "\n",
    "# 데이터로더를 생성합니다.\n",
    "train_dataloader = DataLoader(training_data, batch_size=batch_size, num_workers=4)\n",
    "test_dataloader = DataLoader(test_data, batch_size=batch_size, num_workers=4)\n",
    "\n",
    "for X, y in test_dataloader:\n",
    "    print(f\"Shape of X [N, C, H, W]: {X.shape}\")\n",
    "    print(f\"Shape of y: {y.shape} {y.dtype}\")\n",
    "    break"
   ],
   "id": "e10d49ef90ea43e5",
   "outputs": [
    {
     "name": "stdout",
     "output_type": "stream",
     "text": [
      "Shape of X [N, C, H, W]: torch.Size([16, 1, 28, 28])\n",
      "Shape of y: torch.Size([16]) torch.int64\n"
     ]
    }
   ],
   "execution_count": 3
  },
  {
   "metadata": {},
   "cell_type": "markdown",
   "source": [
    "## 모델 만들기\n",
    "PyTorch에서 신경망 모델은 nn.Module 을 상속받는 클래스(class)를 생성하여 정의합니다.\n",
    " \n",
    "__init__ 함수에서 신경망의 계층(layer)들을 정의하고 forward 함수에서 신경망에 데이터를 어떻게 전달할지 지정합니다. \n",
    "\n",
    "가능한 경우 GPU 또는 MPS로 신경망을 이동시켜 연산을 가속(accelerate)합니다."
   ],
   "id": "7053f3dd2d8cc43d"
  },
  {
   "metadata": {
    "ExecuteTime": {
     "end_time": "2024-07-31T05:33:53.668384Z",
     "start_time": "2024-07-31T05:33:53.642069Z"
    }
   },
   "cell_type": "code",
   "source": [
    "# 학습에 사용할 CPU나 GPU, MPS 장치를 얻습니다.\n",
    "device = (\n",
    "    \"cuda\"\n",
    "    if torch.cuda.is_available()\n",
    "    else \"mps\"\n",
    "    if torch.backends.mps.is_available()\n",
    "    else \"cpu\"\n",
    ")\n",
    "print(f\"Using {device} device\")\n",
    "\n",
    "# 모델을 정의합니다.\n",
    "class NeuralNetwork(nn.Module):\n",
    "    def __init__(self):\n",
    "        super().__init__()\n",
    "        self.flatten = nn.Flatten()\n",
    "        self.linear_relu_stack = nn.Sequential(\n",
    "            nn.Linear(28 * 28, 512),\n",
    "            nn.ReLU(),\n",
    "            nn.Linear(512, 512),\n",
    "            nn.ReLU(),\n",
    "            nn.Linear(512, 10)\n",
    "        )\n",
    "\n",
    "    def forward(self, x):\n",
    "        x = self.flatten(x)\n",
    "        logits = self.linear_relu_stack(x)\n",
    "        return logits\n",
    "\n",
    "model = NeuralNetwork().to(device)\n",
    "print(model)"
   ],
   "id": "f620a268aa3129bb",
   "outputs": [
    {
     "name": "stdout",
     "output_type": "stream",
     "text": [
      "Using mps device\n",
      "NeuralNetwork(\n",
      "  (flatten): Flatten(start_dim=1, end_dim=-1)\n",
      "  (linear_relu_stack): Sequential(\n",
      "    (0): Linear(in_features=784, out_features=512, bias=True)\n",
      "    (1): ReLU()\n",
      "    (2): Linear(in_features=512, out_features=512, bias=True)\n",
      "    (3): ReLU()\n",
      "    (4): Linear(in_features=512, out_features=10, bias=True)\n",
      "  )\n",
      ")\n"
     ]
    }
   ],
   "execution_count": 4
  },
  {
   "metadata": {},
   "cell_type": "markdown",
   "source": [
    "## 모델 매개변수 최적화하기\n",
    "모델을 학습하려면 손실 함수(loss function) 와 옵티마이저(optimizer) 가 필요합니다."
   ],
   "id": "cd7695e3a4f2c145"
  },
  {
   "metadata": {
    "ExecuteTime": {
     "end_time": "2024-07-31T05:33:56.550755Z",
     "start_time": "2024-07-31T05:33:56.542265Z"
    }
   },
   "cell_type": "code",
   "source": [
    "loss_fn = nn.CrossEntropyLoss()\n",
    "optimizer = torch.optim.SGD(model.parameters(), lr=1e-3)"
   ],
   "id": "b52f75f3b5d58bd1",
   "outputs": [],
   "execution_count": 5
  },
  {
   "metadata": {},
   "cell_type": "markdown",
   "source": "각 학습 단계(training loop)에서 모델은 (배치(batch)로 제공되는) 학습 데이터셋에 대한 예측을 수행하고, 예측 오류를 역전파하여 모델의 매개변수를 조정합니다.",
   "id": "d9b2478b4843c15d"
  },
  {
   "metadata": {
    "ExecuteTime": {
     "end_time": "2024-07-31T05:33:59.034472Z",
     "start_time": "2024-07-31T05:33:58.408879Z"
    }
   },
   "cell_type": "code",
   "source": [
    "import matplotlib.pyplot as plt\n",
    "\n",
    "plt.imshow(training_data[1][0].view(28, 28), cmap='gray')\n",
    "plt.title(\"Label = {}\".format(training_data[1][1]))\n",
    "plt.show()\n",
    "\n",
    "def train(dataloader, model, loss_fn, optimizer):\n",
    "    size = len(dataloader.dataset)\n",
    "    indices = []\n",
    "    loss_values = []\n",
    "    \n",
    "    # plt.figure(figsize=(10, 6))\n",
    "    # plt.title('Training Loss over Epochs')\n",
    "    # plt.xlabel('batch')\n",
    "    # plt.ylabel('Loss')\n",
    "    # plt.grid(True)\n",
    "    \n",
    "    for batch, (X, y) in enumerate(dataloader):\n",
    "        X, y = X.to(device), y.to(device)\n",
    "\n",
    "        # 예측 오류 계산\n",
    "        pred = model(X)\n",
    "        loss = loss_fn(pred, y)\n",
    "        \n",
    "        loss_values.append(loss.item())\n",
    "        indices.append(batch)\n",
    "\n",
    "        # 역전파\n",
    "        loss.backward()\n",
    "        optimizer.step()\n",
    "        optimizer.zero_grad()\n",
    "\n",
    "        if batch % 100 == 0:\n",
    "            loss, current = loss.item(), (batch + 1) * len(X)\n",
    "            print(f\"loss: {loss:>7f}  [{current:>5d}/{size:>5d}]\")\n",
    "            \n",
    "    # plt.plot(indices, loss_values, marker='o', linestyle='-', color='b', label='Training Loss')\n",
    "    # plt.show()"
   ],
   "id": "3ff85ba54a79fc92",
   "outputs": [
    {
     "data": {
      "text/plain": [
       "<Figure size 640x480 with 1 Axes>"
      ],
      "image/png": "[encoded data removed]"
     },
     "metadata": {},
     "output_type": "display_data"
    }
   ],
   "execution_count": 6
  },
  {
   "metadata": {},
   "cell_type": "markdown",
   "source": "모델이 학습하고 있는지를 확인하기 위해 테스트 데이터셋으로 모델의 성능을 확인합니다.",
   "id": "71c8593e69673e4c"
  },
  {
   "metadata": {
    "ExecuteTime": {
     "end_time": "2024-07-31T05:34:00.715306Z",
     "start_time": "2024-07-31T05:34:00.708805Z"
    }
   },
   "cell_type": "code",
   "source": [
    "def test(dataloader, model, loss_fn):\n",
    "    size = len(dataloader.dataset)\n",
    "    num_batches = len(dataloader)\n",
    "    model.eval()\n",
    "    test_loss, correct = 0, 0\n",
    "    with torch.no_grad():\n",
    "        for X, y in dataloader:\n",
    "            X, y = X.to(device), y.to(device)\n",
    "            pred = model(X)\n",
    "            test_loss += loss_fn(pred, y).item()\n",
    "            correct += (pred.argmax(1) == y).type(torch.float).sum().item()\n",
    "    test_loss /= num_batches\n",
    "    correct /= size\n",
    "    print(f\"Test Error: \\n Accuracy: {(100 * correct):>0.1f}%, Avg loss: {test_loss:>8f} \\n\")\n",
    "    return 100 * correct"
   ],
   "id": "d763fbe8ab656eda",
   "outputs": [],
   "execution_count": 7
  },
  {
   "metadata": {},
   "cell_type": "markdown",
   "source": [
    "학습 단계는 여러번의 반복 단계 (에폭(epochs)) 를 거쳐서 수행됩니다. \n",
    "\n",
    "각 에폭에서는 모델은 더 나은 예측을 하기 위해 매개변수를 학습합니다. \n",
    "\n",
    "각 에폭마다 모델의 정확도(accuracy)와 손실(loss)을 출력합니다.\n",
    " \n",
    "에폭마다 정확도가 증가하고 손실이 감소하는 것을 보려고 합니다."
   ],
   "id": "4ed66ad67f9afd2"
  },
  {
   "metadata": {},
   "cell_type": "code",
   "source": [
    "from IPython.display import clear_output\n",
    "import time\n",
    "\n",
    "epochs = 200\n",
    "acc = 0\n",
    "accs = []\n",
    "\n",
    "start = time.time()\n",
    "for t in range(epochs):\n",
    "    clear_output()\n",
    "    print(f\"Epoch {t+1} {acc}\\n-------------------------------\")\n",
    "    train(train_dataloader, model, loss_fn, optimizer)\n",
    "    acc = test(test_dataloader, model, loss_fn)\n",
    "    accs.append(acc)\n",
    "    if acc > 90:\n",
    "        print(f'stop epoch {t+1}')\n",
    "        epochs = t + 1\n",
    "        break\n",
    "end = time.time()\n",
    "\n",
    "print(f'time {end - start} sec')\n",
    "\n",
    "plt.figure(figsize=(10, 6))\n",
    "plt.title('Training Loss over Epochs')\n",
    "plt.xlabel('epochs')\n",
    "plt.ylabel('acc')\n",
    "plt.grid(True)\n",
    "plt.plot(list(range(0, epochs)), accs, marker='o', linestyle='-', color='b', label='Training Loss')\n",
    "plt.show()\n",
    "\n",
    "print(\"Done!\")"
   ],
   "id": "ce8cab01eeaa43ef",
   "execution_count": 8,
   "outputs": [
    {
     "name": "stdout",
     "output_type": "stream",
     "text": [
      "Epoch 86 87.53\n",
      "-------------------------------\n",
      "loss: 0.303019  [   16/60000]\n",
      "loss: 0.263113  [ 1616/60000]\n",
      "loss: 0.216132  [ 3216/60000]\n",
      "loss: 0.239711  [ 4816/60000]\n",
      "loss: 0.145433  [ 6416/60000]\n",
      "loss: 0.575209  [ 8016/60000]\n",
      "loss: 0.473173  [ 9616/60000]\n",
      "loss: 0.142170  [11216/60000]\n",
      "loss: 0.250964  [12816/60000]\n",
      "loss: 0.066401  [14416/60000]\n",
      "loss: 0.716588  [16016/60000]\n",
      "loss: 0.184630  [17616/60000]\n",
      "loss: 0.104130  [19216/60000]\n",
      "loss: 0.525094  [20816/60000]\n",
      "loss: 0.163291  [22416/60000]\n",
      "loss: 0.465544  [24016/60000]\n",
      "loss: 0.330979  [25616/60000]\n",
      "loss: 0.270972  [27216/60000]\n",
      "loss: 0.401282  [28816/60000]\n",
      "loss: 0.276277  [30416/60000]\n",
      "loss: 0.352396  [32016/60000]\n",
      "loss: 0.249309  [33616/60000]\n",
      "loss: 0.123906  [35216/60000]\n",
      "loss: 0.234425  [36816/60000]\n",
      "loss: 0.151189  [38416/60000]\n",
      "loss: 0.677471  [40016/60000]\n",
      "loss: 0.334503  [41616/60000]\n",
      "loss: 0.672524  [43216/60000]\n",
      "loss: 0.397986  [44816/60000]\n",
      "loss: 0.344861  [46416/60000]\n",
      "loss: 0.176521  [48016/60000]\n",
      "loss: 0.214479  [49616/60000]\n",
      "loss: 0.080211  [51216/60000]\n",
      "loss: 0.239817  [52816/60000]\n",
      "loss: 0.402532  [54416/60000]\n",
      "loss: 0.129259  [56016/60000]\n",
      "loss: 0.442364  [57616/60000]\n",
      "loss: 0.335914  [59216/60000]\n",
      "Unexpected exception formatting exception. Falling back to standard exception\n"
     ]
    },
    {
     "name": "stderr",
     "output_type": "stream",
     "text": [
      "Traceback (most recent call last):\n",
      "  File \"<string>\", line 1, in <module>\n",
      "  File \"/Library/Developer/CommandLineTools/Library/Frameworks/Python3.framework/Versions/3.9/lib/python3.9/multiprocessing/spawn.py\", line 116, in spawn_main\n",
      "    exitcode = _main(fd, parent_sentinel)\n",
      "  File \"/Library/Developer/CommandLineTools/Library/Frameworks/Python3.framework/Versions/3.9/lib/python3.9/multiprocessing/spawn.py\", line 126, in _main\n",
      "Traceback (most recent call last):\n",
      "  File \"<string>\", line 1, in <module>\n",
      "    self = reduction.pickle.load(from_parent)\n",
      "  File \"/Users/inkyu.choi/Workspace/study/torch-py/venv/lib/python3.9/site-packages/torch/__init__.py\", line 1755, in <module>\n",
      "Traceback (most recent call last):\n",
      "  File \"<string>\", line 1, in <module>\n",
      "  File \"/Library/Developer/CommandLineTools/Library/Frameworks/Python3.framework/Versions/3.9/lib/python3.9/multiprocessing/spawn.py\", line 116, in spawn_main\n",
      "    from .functional import *  # noqa: F403\n",
      "  File \"/Users/inkyu.choi/Workspace/study/torch-py/venv/lib/python3.9/site-packages/torch/functional.py\", line 10, in <module>\n",
      "  File \"/Library/Developer/CommandLineTools/Library/Frameworks/Python3.framework/Versions/3.9/lib/python3.9/multiprocessing/spawn.py\", line 116, in spawn_main\n",
      "    import torch.nn.functional as F\n",
      "  File \"/Users/inkyu.choi/Workspace/study/torch-py/venv/lib/python3.9/site-packages/torch/nn/__init__.py\", line 8, in <module>\n",
      "    exitcode = _main(fd, parent_sentinel)\n",
      "  File \"/Library/Developer/CommandLineTools/Library/Frameworks/Python3.framework/Versions/3.9/lib/python3.9/multiprocessing/spawn.py\", line 126, in _main\n",
      "    exitcode = _main(fd, parent_sentinel)\n",
      "  File \"/Library/Developer/CommandLineTools/Library/Frameworks/Python3.framework/Versions/3.9/lib/python3.9/multiprocessing/spawn.py\", line 126, in _main\n",
      "    self = reduction.pickle.load(from_parent)\n",
      "  File \"/Users/inkyu.choi/Workspace/study/torch-py/venv/lib/python3.9/site-packages/torch/__init__.py\", line 1755, in <module>\n",
      "    self = reduction.pickle.load(from_parent)\n",
      "  File \"/Users/inkyu.choi/Workspace/study/torch-py/venv/lib/python3.9/site-packages/torch/__init__.py\", line 1810, in <module>\n",
      "    from .parallel import DataParallel as DataParallel\n",
      "  File \"/Users/inkyu.choi/Workspace/study/torch-py/venv/lib/python3.9/site-packages/torch/nn/parallel/__init__.py\", line 8, in <module>\n",
      "    from .functional import *  # noqa: F403\n",
      "  File \"/Users/inkyu.choi/Workspace/study/torch-py/venv/lib/python3.9/site-packages/torch/functional.py\", line 10, in <module>\n",
      "    import torch.nn.functional as F\n",
      "  File \"/Users/inkyu.choi/Workspace/study/torch-py/venv/lib/python3.9/site-packages/torch/nn/__init__.py\", line 2, in <module>\n",
      "    from .modules import *  # noqa: F403\n",
      "  File \"/Users/inkyu.choi/Workspace/study/torch-py/venv/lib/python3.9/site-packages/torch/nn/modules/__init__.py\", line 28, in <module>\n",
      "    from .distributed import DistributedDataParallel\n",
      "  File \"/Users/inkyu.choi/Workspace/study/torch-py/venv/lib/python3.9/site-packages/torch/nn/parallel/distributed.py\", line 30, in <module>\n",
      "    from torch import jit as jit\n",
      "  File \"/Users/inkyu.choi/Workspace/study/torch-py/venv/lib/python3.9/site-packages/torch/jit/__init__.py\", line 27, in <module>\n",
      "    from .rnn import RNNBase, RNN, LSTM, GRU, \\\n",
      "  File \"/Users/inkyu.choi/Workspace/study/torch-py/venv/lib/python3.9/site-packages/torch/nn/modules/rnn.py\", line 13, in <module>\n",
      "    from ..utils.rnn import PackedSequence\n",
      "  File \"/Users/inkyu.choi/Workspace/study/torch-py/venv/lib/python3.9/site-packages/torch/nn/utils/__init__.py\", line 8, in <module>\n",
      "    from torch.distributed.utils import (\n",
      "  File \"<frozen importlib._bootstrap>\", line 1007, in _find_and_load\n",
      "    from torch.jit._freeze import freeze, optimize_for_inference, run_frozen_optimizations\n",
      "  File \"/Users/inkyu.choi/Workspace/study/torch-py/venv/lib/python3.9/site-packages/torch/jit/_freeze.py\", line 11, in <module>\n",
      "    from . import parametrizations\n",
      "  File \"<frozen importlib._bootstrap>\", line 1007, in _find_and_load\n",
      "  File \"<frozen importlib._bootstrap>\", line 986, in _find_and_load_unlocked\n",
      "  File \"<frozen importlib._bootstrap>\", line 680, in _load_unlocked\n",
      "  File \"<frozen importlib._bootstrap_external>\", line 846, in exec_module\n",
      "  File \"<frozen importlib._bootstrap_external>\", line 950, in get_code\n",
      "  File \"<frozen importlib._bootstrap>\", line 986, in _find_and_load_unlocked\n",
      "  File \"<frozen importlib._bootstrap_external>\", line 585, in _classify_pyc\n",
      "    from torch.jit._script import RecursiveScriptModule, ScriptModule\n",
      "  File \"/Users/inkyu.choi/Workspace/study/torch-py/venv/lib/python3.9/site-packages/torch/jit/_script.py\", line 31, in <module>\n",
      "  File \"<frozen importlib._bootstrap_external>\", line 82, in _unpack_uint32\n",
      "  File \"<frozen importlib._bootstrap>\", line 680, in _load_unlocked\n",
      "KeyboardInterrupt\n",
      "    from torch.jit._recursive import (\n",
      "  File \"/Users/inkyu.choi/Workspace/study/torch-py/venv/lib/python3.9/site-packages/torch/jit/_recursive.py\", line 17, in <module>\n",
      "  File \"<frozen importlib._bootstrap_external>\", line 846, in exec_module\n",
      "    from torch.jit._state import _add_script_class, _get_script_class, _python_cu\n",
      "  File \"<frozen importlib._bootstrap>\", line 1007, in _find_and_load\n",
      "  File \"<frozen importlib._bootstrap_external>\", line 941, in get_code\n",
      "  File \"<frozen importlib._bootstrap>\", line 982, in _find_and_load_unlocked\n",
      "  File \"<frozen importlib._bootstrap>\", line 925, in _find_spec\n",
      "  File \"<frozen importlib._bootstrap_external>\", line 1414, in find_spec\n",
      "  File \"<frozen importlib._bootstrap_external>\", line 1386, in _get_spec\n",
      "  File \"<frozen importlib._bootstrap_external>\", line 1040, in get_data\n",
      "  File \"<frozen importlib._bootstrap_external>\", line 1546, in find_spec\n",
      "  File \"<frozen importlib._bootstrap_external>\", line 156, in _path_isfile\n",
      "  File \"<frozen importlib._bootstrap_external>\", line 148, in _path_is_mode_type\n",
      "  File \"<frozen importlib._bootstrap_external>\", line 142, in _path_stat\n",
      "KeyboardInterrupt\n",
      "KeyboardInterrupt\n",
      "Traceback (most recent call last):\n",
      "  File \"<string>\", line 1, in <module>\n",
      "  File \"/Library/Developer/CommandLineTools/Library/Frameworks/Python3.framework/Versions/3.9/lib/python3.9/multiprocessing/spawn.py\", line 116, in spawn_main\n",
      "    exitcode = _main(fd, parent_sentinel)\n",
      "  File \"/Library/Developer/CommandLineTools/Library/Frameworks/Python3.framework/Versions/3.9/lib/python3.9/multiprocessing/spawn.py\", line 126, in _main\n",
      "    self = reduction.pickle.load(from_parent)\n",
      "  File \"/Users/inkyu.choi/Workspace/study/torch-py/venv/lib/python3.9/site-packages/torch/__init__.py\", line 1755, in <module>\n",
      "    from .functional import *  # noqa: F403\n",
      "  File \"/Users/inkyu.choi/Workspace/study/torch-py/venv/lib/python3.9/site-packages/torch/functional.py\", line 10, in <module>\n",
      "    import torch.nn.functional as F\n",
      "  File \"/Users/inkyu.choi/Workspace/study/torch-py/venv/lib/python3.9/site-packages/torch/nn/__init__.py\", line 2, in <module>\n",
      "    from .modules import *  # noqa: F403\n",
      "  File \"/Users/inkyu.choi/Workspace/study/torch-py/venv/lib/python3.9/site-packages/torch/nn/modules/__init__.py\", line 2, in <module>\n",
      "    from .linear import Identity, Linear, Bilinear, LazyLinear\n",
      "  File \"/Users/inkyu.choi/Workspace/study/torch-py/venv/lib/python3.9/site-packages/torch/nn/modules/linear.py\", line 8, in <module>\n",
      "    from .. import functional as F\n",
      "  File \"/Users/inkyu.choi/Workspace/study/torch-py/venv/lib/python3.9/site-packages/torch/nn/functional.py\", line 25, in <module>\n",
      "    from .._jit_internal import boolean_dispatch, _overload, BroadcastingList1, BroadcastingList2, BroadcastingList3\n",
      "  File \"/Users/inkyu.choi/Workspace/study/torch-py/venv/lib/python3.9/site-packages/torch/_jit_internal.py\", line 45, in <module>\n",
      "    import torch.distributed.rpc\n",
      "  File \"/Users/inkyu.choi/Workspace/study/torch-py/venv/lib/python3.9/site-packages/torch/distributed/rpc/__init__.py\", line 75, in <module>\n",
      "    from .server_process_global_profiler import (\n",
      "  File \"/Users/inkyu.choi/Workspace/study/torch-py/venv/lib/python3.9/site-packages/torch/distributed/rpc/server_process_global_profiler.py\", line 7, in <module>\n",
      "    from torch.autograd.profiler_legacy import profile\n",
      "  File \"/Users/inkyu.choi/Workspace/study/torch-py/venv/lib/python3.9/site-packages/torch/autograd/__init__.py\", line 30, in <module>\n",
      "    from .gradcheck import gradcheck, gradgradcheck\n",
      "  File \"/Users/inkyu.choi/Workspace/study/torch-py/venv/lib/python3.9/site-packages/torch/autograd/gradcheck.py\", line 10, in <module>\n",
      "    import torch.testing\n",
      "  File \"/Users/inkyu.choi/Workspace/study/torch-py/venv/lib/python3.9/site-packages/torch/testing/__init__.py\", line 3, in <module>\n",
      "    from ._comparison import assert_allclose, assert_close as assert_close\n",
      "  File \"<frozen importlib._bootstrap>\", line 1007, in _find_and_load\n",
      "  File \"<frozen importlib._bootstrap>\", line 986, in _find_and_load_unlocked\n",
      "  File \"<frozen importlib._bootstrap>\", line 680, in _load_unlocked\n",
      "  File \"<frozen importlib._bootstrap_external>\", line 846, in exec_module\n",
      "  File \"<frozen importlib._bootstrap_external>\", line 978, in get_code\n",
      "  File \"<frozen importlib._bootstrap_external>\", line 647, in _compile_bytecode\n",
      "KeyboardInterrupt\n",
      "Traceback (most recent call last):\n",
      "  File \"/Users/inkyu.choi/Workspace/study/torch-py/venv/lib/python3.9/site-packages/IPython/core/interactiveshell.py\", line 3550, in run_code\n",
      "    exec(code_obj, self.user_global_ns, self.user_ns)\n",
      "  File \"/var/folders/5s/vlyk25990psds7wb64gpt95r0000gn/T/ipykernel_70546/593791202.py\", line 13, in <module>\n",
      "    acc = test(test_dataloader, model, loss_fn)\n",
      "  File \"/var/folders/5s/vlyk25990psds7wb64gpt95r0000gn/T/ipykernel_70546/3047825671.py\", line 7, in test\n",
      "    for X, y in dataloader:\n",
      "  File \"/Users/inkyu.choi/Workspace/study/torch-py/venv/lib/python3.9/site-packages/torch/utils/data/dataloader.py\", line 630, in __next__\n",
      "    data = self._next_data()\n",
      "  File \"/Users/inkyu.choi/Workspace/study/torch-py/venv/lib/python3.9/site-packages/torch/utils/data/dataloader.py\", line 1327, in _next_data\n",
      "    idx, data = self._get_data()\n",
      "  File \"/Users/inkyu.choi/Workspace/study/torch-py/venv/lib/python3.9/site-packages/torch/utils/data/dataloader.py\", line 1293, in _get_data\n",
      "    success, data = self._try_get_data()\n",
      "  File \"/Users/inkyu.choi/Workspace/study/torch-py/venv/lib/python3.9/site-packages/torch/utils/data/dataloader.py\", line 1131, in _try_get_data\n",
      "    data = self._data_queue.get(timeout=timeout)\n",
      "  File \"/Library/Developer/CommandLineTools/Library/Frameworks/Python3.framework/Versions/3.9/lib/python3.9/multiprocessing/queues.py\", line 113, in get\n",
      "    if not self._poll(timeout):\n",
      "  File \"/Library/Developer/CommandLineTools/Library/Frameworks/Python3.framework/Versions/3.9/lib/python3.9/multiprocessing/connection.py\", line 262, in poll\n",
      "    return self._poll(timeout)\n",
      "  File \"/Library/Developer/CommandLineTools/Library/Frameworks/Python3.framework/Versions/3.9/lib/python3.9/multiprocessing/connection.py\", line 429, in _poll\n",
      "    r = wait([self], timeout)\n",
      "  File \"/Library/Developer/CommandLineTools/Library/Frameworks/Python3.framework/Versions/3.9/lib/python3.9/multiprocessing/connection.py\", line 936, in wait\n",
      "    ready = selector.select(timeout)\n",
      "  File \"/Library/Developer/CommandLineTools/Library/Frameworks/Python3.framework/Versions/3.9/lib/python3.9/selectors.py\", line 416, in select\n",
      "    fd_event_list = self._selector.poll(timeout)\n",
      "KeyboardInterrupt\n",
      "\n",
      "During handling of the above exception, another exception occurred:\n",
      "\n",
      "Traceback (most recent call last):\n",
      "  File \"/Users/inkyu.choi/Workspace/study/torch-py/venv/lib/python3.9/site-packages/IPython/core/interactiveshell.py\", line 2144, in showtraceback\n",
      "    stb = self.InteractiveTB.structured_traceback(\n",
      "  File \"/Users/inkyu.choi/Workspace/study/torch-py/venv/lib/python3.9/site-packages/IPython/core/ultratb.py\", line 1435, in structured_traceback\n",
      "    return FormattedTB.structured_traceback(\n",
      "  File \"/Users/inkyu.choi/Workspace/study/torch-py/venv/lib/python3.9/site-packages/IPython/core/ultratb.py\", line 1326, in structured_traceback\n",
      "    return VerboseTB.structured_traceback(\n",
      "  File \"/Users/inkyu.choi/Workspace/study/torch-py/venv/lib/python3.9/site-packages/IPython/core/ultratb.py\", line 1173, in structured_traceback\n",
      "    formatted_exception = self.format_exception_as_a_whole(etype, evalue, etb, number_of_lines_of_context,\n",
      "  File \"/Users/inkyu.choi/Workspace/study/torch-py/venv/lib/python3.9/site-packages/IPython/core/ultratb.py\", line 1063, in format_exception_as_a_whole\n",
      "    self.get_records(etb, number_of_lines_of_context, tb_offset) if etb else []\n",
      "  File \"/Users/inkyu.choi/Workspace/study/torch-py/venv/lib/python3.9/site-packages/IPython/core/ultratb.py\", line 1131, in get_records\n",
      "    mod = inspect.getmodule(cf.tb_frame)\n",
      "  File \"/Library/Developer/CommandLineTools/Library/Frameworks/Python3.framework/Versions/3.9/lib/python3.9/inspect.py\", line 738, in getmodule\n",
      "    file = getabsfile(object, _filename)\n",
      "  File \"/Library/Developer/CommandLineTools/Library/Frameworks/Python3.framework/Versions/3.9/lib/python3.9/inspect.py\", line 721, in getabsfile\n",
      "    _filename = getsourcefile(object) or getfile(object)\n",
      "  File \"/Library/Developer/CommandLineTools/Library/Frameworks/Python3.framework/Versions/3.9/lib/python3.9/inspect.py\", line 709, in getsourcefile\n",
      "    if getattr(getmodule(object, filename), '__loader__', None) is not None:\n",
      "  File \"/Library/Developer/CommandLineTools/Library/Frameworks/Python3.framework/Versions/3.9/lib/python3.9/inspect.py\", line 755, in getmodule\n",
      "    os.path.realpath(f)] = module.__name__\n",
      "  File \"/Library/Developer/CommandLineTools/Library/Frameworks/Python3.framework/Versions/3.9/lib/python3.9/posixpath.py\", line 391, in realpath\n",
      "    path, ok = _joinrealpath(filename[:0], filename, {})\n",
      "  File \"/Library/Developer/CommandLineTools/Library/Frameworks/Python3.framework/Versions/3.9/lib/python3.9/posixpath.py\", line 425, in _joinrealpath\n",
      "    if not islink(newpath):\n",
      "  File \"/Library/Developer/CommandLineTools/Library/Frameworks/Python3.framework/Versions/3.9/lib/python3.9/posixpath.py\", line 167, in islink\n",
      "    st = os.lstat(path)\n",
      "  File \"/Users/inkyu.choi/Workspace/study/torch-py/venv/lib/python3.9/site-packages/torch/utils/data/_utils/signal_handling.py\", line 67, in handler\n",
      "    _error_if_any_worker_fails()\n",
      "RuntimeError: DataLoader worker (pid 71445) is killed by signal: Interrupt: 2. \n"
     ]
    }
   ]
  },
  {
   "metadata": {
    "ExecuteTime": {
     "end_time": "2024-07-31T07:06:14.817738Z",
     "start_time": "2024-07-31T07:06:14.559388Z"
    }
   },
   "cell_type": "code",
   "source": [
    "print(accs)\n",
    "\n",
    "plt.figure(figsize=(10, 6))\n",
    "plt.title('Training Loss over Epochs')\n",
    "plt.xlabel('epochs')\n",
    "plt.ylabel('acc')\n",
    "plt.grid(True)\n",
    "plt.plot(list(range(0, len(accs))), accs, marker='o', linestyle='-', color='b', label='Training Loss')\n",
    "plt.show()"
   ],
   "id": "b1b2c44da7293f63",
   "outputs": [
    {
     "name": "stdout",
     "output_type": "stream",
     "text": [
      "[61.519999999999996, 67.45, 72.97, 76.48, 78.46, 79.73, 80.72, 81.11, 81.61, 81.96, 82.23, 82.49, 82.72, 82.97, 83.19, 83.32000000000001, 83.49, 83.59, 83.73, 83.94, 84.11999999999999, 84.19, 84.28999999999999, 84.44, 84.52, 84.59, 84.73, 84.84, 84.95, 84.99, 85.08, 85.16, 85.24000000000001, 85.34, 85.38, 85.46000000000001, 85.54, 85.6, 85.65, 85.71, 85.81, 85.87, 85.95, 86.02, 86.14, 86.18, 86.2, 86.29, 86.36, 86.37, 86.44, 86.47, 86.53, 86.6, 86.61, 86.64, 86.72999999999999, 86.77, 86.8, 86.78, 86.83999999999999, 86.87, 86.9, 86.95, 87.01, 87.07000000000001, 87.1, 87.1, 87.09, 87.09, 87.12, 87.14, 87.17, 87.25, 87.25, 87.26, 87.3, 87.33, 87.31, 87.38, 87.39, 87.39, 87.42999999999999, 87.44, 87.53]\n"
     ]
    },
    {
     "data": {
      "text/plain": [
       "<Figure size 1000x600 with 1 Axes>"
      ],
      "image/png": "[encoded data removed]"
     },
     "metadata": {},
     "output_type": "display_data"
    }
   ],
   "execution_count": 10
  },
  {
   "metadata": {
    "ExecuteTime": {
     "end_time": "2024-07-30T06:03:38.380726Z",
     "start_time": "2024-07-30T06:03:38.362410Z"
    }
   },
   "cell_type": "code",
   "source": [
    "# 모델 저장하기\n",
    "torch.save(model.state_dict(), \"model.pth\")\n",
    "print(\"Saved PyTorch Model State to model.pth\")"
   ],
   "id": "be9cda58ed116f0a",
   "outputs": [
    {
     "name": "stdout",
     "output_type": "stream",
     "text": [
      "Saved PyTorch Model State to model.pth\n"
     ]
    }
   ],
   "execution_count": 10
  },
  {
   "metadata": {
    "ExecuteTime": {
     "end_time": "2024-07-30T06:03:41.787698Z",
     "start_time": "2024-07-30T06:03:41.767510Z"
    }
   },
   "cell_type": "code",
   "source": [
    "# 모델 불러오기\n",
    "loaded_model = NeuralNetwork().to(device)\n",
    "loaded_model.load_state_dict(torch.load(\"model.pth\", weights_only=True))"
   ],
   "id": "211663679cbfa796",
   "outputs": [
    {
     "data": {
      "text/plain": [
       "<All keys matched successfully>"
      ]
     },
     "execution_count": 11,
     "metadata": {},
     "output_type": "execute_result"
    }
   ],
   "execution_count": 11
  },
  {
   "metadata": {
    "ExecuteTime": {
     "end_time": "2024-07-30T06:03:46.238719Z",
     "start_time": "2024-07-30T06:03:45.946823Z"
    }
   },
   "cell_type": "code",
   "source": [
    "classes = [\n",
    "    \"T-shirt/top\",\n",
    "    \"Trouser\",\n",
    "    \"Pullover\",\n",
    "    \"Dress\",\n",
    "    \"Coat\",\n",
    "    \"Sandal\",\n",
    "    \"Shirt\",\n",
    "    \"Sneaker\",\n",
    "    \"Bag\",\n",
    "    \"Ankle boot\",\n",
    "]\n",
    "\n",
    "loaded_model.eval()\n",
    "x, y = test_data[0][0], test_data[0][1]\n",
    "with torch.no_grad():\n",
    "    x = x.to(device)\n",
    "    pred = loaded_model(x)\n",
    "    predicted, actual = classes[pred[0].argmax(0)], classes[y]\n",
    "    print(f'Predicted: \"{predicted}\", Actual: \"{actual}\"')"
   ],
   "id": "3636250d31dd0f04",
   "outputs": [
    {
     "name": "stdout",
     "output_type": "stream",
     "text": [
      "Predicted: \"Ankle boot\", Actual: \"Ankle boot\"\n"
     ]
    }
   ],
   "execution_count": 12
  }
 ],
 "metadata": {
  "kernelspec": {
   "display_name": "Python 3",
   "language": "python",
   "name": "python3"
  },
  "language_info": {
   "codemirror_mode": {
    "name": "ipython",
    "version": 2
   },
   "file_extension": ".py",
   "mimetype": "text/x-python",
   "name": "python",
   "nbconvert_exporter": "python",
   "pygments_lexer": "ipython2",
   "version": "2.7.6"
  }
 },
 "nbformat": 4,
 "nbformat_minor": 5
}
