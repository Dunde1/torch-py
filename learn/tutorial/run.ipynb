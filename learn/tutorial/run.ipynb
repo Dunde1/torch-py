{
 "cells": [
  {
   "metadata": {},
   "cell_type": "markdown",
   "source": [
    "파이토치(PyTorch)에는 데이터 작업을 위한 기본 요소 두가지인 torch.utils.data.DataLoader 와 torch.utils.data.Dataset 가 있습니다.\n",
    "\n",
    "Dataset 은 샘플과 정답(label)을 저장하고, DataLoader 는 Dataset 을 순회 가능한 객체(iterable)로 감쌉니다."
   ],
   "id": "b996906cede80f9b"
  },
  {
   "metadata": {
    "ExecuteTime": {
     "end_time": "2024-07-30T11:10:48.779357Z",
     "start_time": "2024-07-30T11:10:46.231169Z"
    }
   },
   "cell_type": "code",
   "source": [
    "import torch\n",
    "from torch import nn\n",
    "from torch.utils.data import DataLoader\n",
    "from torchvision import datasets\n",
    "from torchvision.transforms import ToTensor"
   ],
   "id": "initial_id",
   "outputs": [],
   "execution_count": 1
  },
  {
   "metadata": {},
   "cell_type": "markdown",
   "source": [
    "PyTorch는 TorchText, TorchVision 및 TorchAudio 와 같이 도메인 특화 라이브러리를 데이터셋과 함께 제공하고 있습니다.\n",
    "\n",
    "이 튜토리얼에서는 TorchVision 데이터셋을 사용하도록 하겠습니다.\n",
    "\n",
    "torchvision.datasets 모듈은 CIFAR, COCO 등과 같은 다양한 실제 비전(vision) 데이터에 대한 Dataset(전체 목록은 여기)을 포함하고 있습니다.\n",
    "\n",
    "이 튜토리얼에서는 FasionMNIST 데이터셋을 사용합니다.\n",
    "\n",
    "모든 TorchVision Dataset 은 샘플과 정답을 각각 변경하기 위한 transform 과 target_transform 의 두 인자를 포함합니다."
   ],
   "id": "fc80625c61c52bf3"
  },
  {
   "metadata": {
    "ExecuteTime": {
     "end_time": "2024-07-30T11:10:49.514577Z",
     "start_time": "2024-07-30T11:10:49.470748Z"
    }
   },
   "cell_type": "code",
   "source": [
    "# 공개 데이터셋에서 학습 데이터를 내려받습니다.\n",
    "training_data = datasets.FashionMNIST(\n",
    "    root=\"data\",\n",
    "    train=True,\n",
    "    download=True,\n",
    "    transform=ToTensor(),\n",
    ")\n",
    "\n",
    "# 공개 데이터셋에서 테스트 데이터를 내려받습니다.\n",
    "test_data = datasets.FashionMNIST(\n",
    "    root=\"data\",\n",
    "    train=False,\n",
    "    download=True,\n",
    "    transform=ToTensor(),\n",
    ")"
   ],
   "id": "d18722a2855cf90b",
   "outputs": [],
   "execution_count": 2
  },
  {
   "metadata": {},
   "cell_type": "markdown",
   "source": "",
   "id": "faa4f0c2c516e377"
  },
  {
   "metadata": {},
   "cell_type": "markdown",
   "source": [
    "Dataset 을 DataLoader 의 인자로 전달합니다.\n",
    "\n",
    "이는 데이터셋을 순회 가능한 객체(iterable)로 감싸고, 자동화된 배치(batch), 샘플링(sampling), 섞기(shuffle) 및 다중 프로세스로 데이터 불러오기(multiprocess data loading)를 지원합니다.\n",
    "\n",
    "여기서는 배치 크기(batch size)를 64로 정의합니다.\n",
    "\n",
    "즉, 데이터로더(dataloader) 객체의 각 요소는 64개의 특징(feature)과 정답(label)을 묶음(batch)으로 반환합니다."
   ],
   "id": "5e6c66ad8ccf83a8"
  },
  {
   "metadata": {
    "ExecuteTime": {
     "end_time": "2024-07-30T11:11:03.124855Z",
     "start_time": "2024-07-30T11:10:59.595263Z"
    }
   },
   "cell_type": "code",
   "source": [
    "batch_size = 64\n",
    "\n",
    "# 데이터로더를 생성합니다.\n",
    "train_dataloader = DataLoader(training_data, batch_size=batch_size, num_workers=4)\n",
    "test_dataloader = DataLoader(test_data, batch_size=batch_size, num_workers=4)\n",
    "\n",
    "for X, y in test_dataloader:\n",
    "    print(f\"Shape of X [N, C, H, W]: {X.shape}\")\n",
    "    print(f\"Shape of y: {y.shape} {y.dtype}\")\n",
    "    break"
   ],
   "id": "e10d49ef90ea43e5",
   "outputs": [
    {
     "name": "stdout",
     "output_type": "stream",
     "text": [
      "Shape of X [N, C, H, W]: torch.Size([64, 1, 28, 28])\n",
      "Shape of y: torch.Size([64]) torch.int64\n"
     ]
    }
   ],
   "execution_count": 4
  },
  {
   "metadata": {},
   "cell_type": "markdown",
   "source": [
    "## 모델 만들기\n",
    "PyTorch에서 신경망 모델은 nn.Module 을 상속받는 클래스(class)를 생성하여 정의합니다.\n",
    " \n",
    "__init__ 함수에서 신경망의 계층(layer)들을 정의하고 forward 함수에서 신경망에 데이터를 어떻게 전달할지 지정합니다. \n",
    "\n",
    "가능한 경우 GPU 또는 MPS로 신경망을 이동시켜 연산을 가속(accelerate)합니다."
   ],
   "id": "7053f3dd2d8cc43d"
  },
  {
   "metadata": {
    "ExecuteTime": {
     "end_time": "2024-07-30T11:11:04.392435Z",
     "start_time": "2024-07-30T11:11:04.239374Z"
    }
   },
   "cell_type": "code",
   "source": [
    "# 학습에 사용할 CPU나 GPU, MPS 장치를 얻습니다.\n",
    "device = (\n",
    "    \"cuda\"\n",
    "    if torch.cuda.is_available()\n",
    "    else \"mps\"\n",
    "    if torch.backends.mps.is_available()\n",
    "    else \"cpu\"\n",
    ")\n",
    "print(f\"Using {device} device\")\n",
    "\n",
    "# 모델을 정의합니다.\n",
    "class NeuralNetwork(nn.Module):\n",
    "    def __init__(self):\n",
    "        super().__init__()\n",
    "        self.flatten = nn.Flatten()\n",
    "        self.linear_relu_stack = nn.Sequential(\n",
    "            nn.Linear(28 * 28, 512),\n",
    "            nn.ReLU(),\n",
    "            nn.Linear(512, 512),\n",
    "            nn.ReLU(),\n",
    "            nn.Linear(512, 10)\n",
    "        )\n",
    "\n",
    "    def forward(self, x):\n",
    "        x = self.flatten(x)\n",
    "        logits = self.linear_relu_stack(x)\n",
    "        return logits\n",
    "\n",
    "model = NeuralNetwork().to(device)\n",
    "print(model)"
   ],
   "id": "f620a268aa3129bb",
   "outputs": [
    {
     "name": "stdout",
     "output_type": "stream",
     "text": [
      "Using cuda device\n",
      "NeuralNetwork(\n",
      "  (flatten): Flatten(start_dim=1, end_dim=-1)\n",
      "  (linear_relu_stack): Sequential(\n",
      "    (0): Linear(in_features=784, out_features=512, bias=True)\n",
      "    (1): ReLU()\n",
      "    (2): Linear(in_features=512, out_features=512, bias=True)\n",
      "    (3): ReLU()\n",
      "    (4): Linear(in_features=512, out_features=10, bias=True)\n",
      "  )\n",
      ")\n"
     ]
    }
   ],
   "execution_count": 5
  },
  {
   "metadata": {},
   "cell_type": "markdown",
   "source": [
    "## 모델 매개변수 최적화하기\n",
    "모델을 학습하려면 손실 함수(loss function) 와 옵티마이저(optimizer) 가 필요합니다."
   ],
   "id": "cd7695e3a4f2c145"
  },
  {
   "metadata": {
    "ExecuteTime": {
     "end_time": "2024-07-30T11:11:05.242284Z",
     "start_time": "2024-07-30T11:11:05.237717Z"
    }
   },
   "cell_type": "code",
   "source": [
    "loss_fn = nn.CrossEntropyLoss()\n",
    "optimizer = torch.optim.SGD(model.parameters(), lr=1e-3)"
   ],
   "id": "b52f75f3b5d58bd1",
   "outputs": [],
   "execution_count": 6
  },
  {
   "metadata": {},
   "cell_type": "markdown",
   "source": "각 학습 단계(training loop)에서 모델은 (배치(batch)로 제공되는) 학습 데이터셋에 대한 예측을 수행하고, 예측 오류를 역전파하여 모델의 매개변수를 조정합니다.",
   "id": "d9b2478b4843c15d"
  },
  {
   "metadata": {
    "ExecuteTime": {
     "end_time": "2024-07-30T11:14:45.313176Z",
     "start_time": "2024-07-30T11:14:45.225495Z"
    }
   },
   "cell_type": "code",
   "source": [
    "import matplotlib.pyplot as plt\n",
    "\n",
    "plt.imshow(training_data[1][0].view(28, 28), cmap='gray')\n",
    "plt.title(\"Label = {}\".format(training_data[1][1]))\n",
    "plt.show()\n",
    "\n",
    "def train(dataloader, model, loss_fn, optimizer):\n",
    "    size = len(dataloader.dataset)\n",
    "    indices = []\n",
    "    loss_values = []\n",
    "    \n",
    "    plt.figure(figsize=(10, 6))\n",
    "    plt.title('Training Loss over Epochs')\n",
    "    plt.xlabel('batch')\n",
    "    plt.ylabel('Loss')\n",
    "    plt.grid(True)\n",
    "    \n",
    "    for batch, (X, y) in enumerate(dataloader):\n",
    "        X, y = X.to(device), y.to(device)\n",
    "\n",
    "        # 예측 오류 계산\n",
    "        pred = model(X)\n",
    "        loss = loss_fn(pred, y)\n",
    "        \n",
    "        loss_values.append(loss.item())\n",
    "        indices.append(batch)\n",
    "\n",
    "        # 역전파\n",
    "        loss.backward()\n",
    "        optimizer.step()\n",
    "        optimizer.zero_grad()\n",
    "\n",
    "        if batch % 100 == 0:\n",
    "            loss, current = loss.item(), (batch + 1) * len(X)\n",
    "            print(f\"loss: {loss:>7f}  [{current:>5d}/{size:>5d}]\")\n",
    "            \n",
    "    plt.plot(indices, loss_values, marker='o', linestyle='-', color='b', label='Training Loss')\n",
    "    plt.show()"
   ],
   "id": "3ff85ba54a79fc92",
   "outputs": [
    {
     "data": {
      "text/plain": [
       "<Figure size 640x480 with 1 Axes>"
      ],
      "image/png": "[encoded data removed]"
     },
     "metadata": {},
     "output_type": "display_data"
    }
   ],
   "execution_count": 10
  },
  {
   "metadata": {},
   "cell_type": "markdown",
   "source": "모델이 학습하고 있는지를 확인하기 위해 테스트 데이터셋으로 모델의 성능을 확인합니다.",
   "id": "71c8593e69673e4c"
  },
  {
   "metadata": {
    "ExecuteTime": {
     "end_time": "2024-07-30T11:14:48.221286Z",
     "start_time": "2024-07-30T11:14:48.215564Z"
    }
   },
   "cell_type": "code",
   "source": [
    "def test(dataloader, model, loss_fn):\n",
    "    size = len(dataloader.dataset)\n",
    "    num_batches = len(dataloader)\n",
    "    model.eval()\n",
    "    test_loss, correct = 0, 0\n",
    "    with torch.no_grad():\n",
    "        for X, y in dataloader:\n",
    "            X, y = X.to(device), y.to(device)\n",
    "            pred = model(X)\n",
    "            test_loss += loss_fn(pred, y).item()\n",
    "            correct += (pred.argmax(1) == y).type(torch.float).sum().item()\n",
    "    test_loss /= num_batches\n",
    "    correct /= size\n",
    "    print(f\"Test Error: \\n Accuracy: {(100 * correct):>0.1f}%, Avg loss: {test_loss:>8f} \\n\")\n",
    "    return 100 * correct"
   ],
   "id": "d763fbe8ab656eda",
   "outputs": [],
   "execution_count": 11
  },
  {
   "metadata": {},
   "cell_type": "markdown",
   "source": [
    "학습 단계는 여러번의 반복 단계 (에폭(epochs)) 를 거쳐서 수행됩니다. \n",
    "\n",
    "각 에폭에서는 모델은 더 나은 예측을 하기 위해 매개변수를 학습합니다. \n",
    "\n",
    "각 에폭마다 모델의 정확도(accuracy)와 손실(loss)을 출력합니다.\n",
    " \n",
    "에폭마다 정확도가 증가하고 손실이 감소하는 것을 보려고 합니다."
   ],
   "id": "4ed66ad67f9afd2"
  },
  {
   "metadata": {},
   "cell_type": "code",
   "source": [
    "from IPython.display import clear_output\n",
    "import time\n",
    "\n",
    "epochs = 10\n",
    "acc = 0\n",
    "accs = []\n",
    "\n",
    "start = time.time()\n",
    "for t in range(epochs):\n",
    "    clear_output()\n",
    "    print(f\"Epoch {t+1} {accs}\\n-------------------------------\")\n",
    "    train(train_dataloader, model, loss_fn, optimizer)\n",
    "    acc = test(test_dataloader, model, loss_fn)\n",
    "    accs.append(acc)\n",
    "    if acc > 90:\n",
    "        break\n",
    "end = time.time()\n",
    "print(f\"Time taken for {epochs} epochs: {end - start} sec\")\n",
    "\n",
    "plt.figure(figsize=(10, 6))\n",
    "plt.title('Training Loss over Epochs')\n",
    "plt.xlabel('epochs')\n",
    "plt.ylabel('acc')\n",
    "plt.grid(True)\n",
    "plt.plot(list(range(0, epochs)), accs, marker='o', linestyle='-', color='b', label='Training Loss')\n",
    "plt.show()\n",
    "\n",
    "print(\"Done!\")"
   ],
   "id": "ce8cab01eeaa43ef",
   "execution_count": 12,
   "outputs": [
    {
     "name": "stdout",
     "output_type": "stream",
     "text": [
      "Epoch 10 [71.89, 73.11, 74.14, 75.07000000000001, 75.79, 76.62, 77.14, 77.49000000000001, 77.91]\n",
      "-------------------------------\n",
      "Time taken for 10 epochs: 84.44522428512573 sec\n"
     ]
    },
    {
     "data": {
      "text/plain": [
       "<Figure size 1000x600 with 1 Axes>"
      ],
      "image/png": "[encoded data removed]"
     },
     "metadata": {},
     "output_type": "display_data"
    },
    {
     "name": "stdout",
     "output_type": "stream",
     "text": [
      "Done!\n"
     ]
    }
   ]
  },
  {
   "metadata": {
    "ExecuteTime": {
     "end_time": "2024-07-30T06:03:38.380726Z",
     "start_time": "2024-07-30T06:03:38.362410Z"
    }
   },
   "cell_type": "code",
   "source": [
    "# 모델 저장하기\n",
    "torch.save(model.state_dict(), \"model.pth\")\n",
    "print(\"Saved PyTorch Model State to model.pth\")"
   ],
   "id": "be9cda58ed116f0a",
   "outputs": [
    {
     "name": "stdout",
     "output_type": "stream",
     "text": [
      "Saved PyTorch Model State to model.pth\n"
     ]
    }
   ],
   "execution_count": 10
  },
  {
   "metadata": {
    "ExecuteTime": {
     "end_time": "2024-07-30T06:03:41.787698Z",
     "start_time": "2024-07-30T06:03:41.767510Z"
    }
   },
   "cell_type": "code",
   "source": [
    "# 모델 불러오기\n",
    "loaded_model = NeuralNetwork().to(device)\n",
    "loaded_model.load_state_dict(torch.load(\"model.pth\", weights_only=True))"
   ],
   "id": "211663679cbfa796",
   "outputs": [
    {
     "data": {
      "text/plain": [
       "<All keys matched successfully>"
      ]
     },
     "execution_count": 11,
     "metadata": {},
     "output_type": "execute_result"
    }
   ],
   "execution_count": 11
  },
  {
   "metadata": {
    "ExecuteTime": {
     "end_time": "2024-07-30T06:03:46.238719Z",
     "start_time": "2024-07-30T06:03:45.946823Z"
    }
   },
   "cell_type": "code",
   "source": [
    "classes = [\n",
    "    \"T-shirt/top\",\n",
    "    \"Trouser\",\n",
    "    \"Pullover\",\n",
    "    \"Dress\",\n",
    "    \"Coat\",\n",
    "    \"Sandal\",\n",
    "    \"Shirt\",\n",
    "    \"Sneaker\",\n",
    "    \"Bag\",\n",
    "    \"Ankle boot\",\n",
    "]\n",
    "\n",
    "loaded_model.eval()\n",
    "x, y = test_data[0][0], test_data[0][1]\n",
    "with torch.no_grad():\n",
    "    x = x.to(device)\n",
    "    pred = loaded_model(x)\n",
    "    predicted, actual = classes[pred[0].argmax(0)], classes[y]\n",
    "    print(f'Predicted: \"{predicted}\", Actual: \"{actual}\"')"
   ],
   "id": "3636250d31dd0f04",
   "outputs": [
    {
     "name": "stdout",
     "output_type": "stream",
     "text": [
      "Predicted: \"Ankle boot\", Actual: \"Ankle boot\"\n"
     ]
    }
   ],
   "execution_count": 12
  },
  {
   "metadata": {
    "ExecuteTime": {
     "end_time": "2024-07-30T10:24:32.243781Z",
     "start_time": "2024-07-30T10:24:32.173808Z"
    }
   },
   "cell_type": "code",
   "source": [
    "print(torch.cuda.is_available())\n",
    "print(torch.cuda.device_count())\n",
    "print(torch.cuda.get_device_name(torch.cuda.current_device()))\n"
   ],
   "id": "6a2a499c448c6135",
   "outputs": [
    {
     "name": "stdout",
     "output_type": "stream",
     "text": [
      "True\n",
      "1\n",
      "NVIDIA GeForce RTX 3060 Ti\n"
     ]
    }
   ],
   "execution_count": 2
  }
 ],
 "metadata": {
  "kernelspec": {
   "display_name": "Python 3",
   "language": "python",
   "name": "python3"
  },
  "language_info": {
   "codemirror_mode": {
    "name": "ipython",
    "version": 2
   },
   "file_extension": ".py",
   "mimetype": "text/x-python",
   "name": "python",
   "nbconvert_exporter": "python",
   "pygments_lexer": "ipython2",
   "version": "2.7.6"
  }
 },
 "nbformat": 4,
 "nbformat_minor": 5
}
