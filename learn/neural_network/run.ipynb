{
 "cells": [
  {
   "cell_type": "code",
   "id": "initial_id",
   "metadata": {
    "collapsed": true,
    "ExecuteTime": {
     "end_time": "2024-07-31T10:24:48.986861Z",
     "start_time": "2024-07-31T10:24:47.800745Z"
    }
   },
   "source": [
    "import numpy as np\n",
    "import torch"
   ],
   "outputs": [],
   "execution_count": 1
  },
  {
   "metadata": {
    "ExecuteTime": {
     "end_time": "2024-07-31T07:48:54.968192Z",
     "start_time": "2024-07-31T07:48:54.939580Z"
    }
   },
   "cell_type": "code",
   "source": [
    "weight = torch.tensor(2.0)\n",
    "bias = torch.tensor(-1.0)"
   ],
   "id": "aee6fd56c1055b2f",
   "outputs": [],
   "execution_count": 2
  },
  {
   "metadata": {
    "ExecuteTime": {
     "end_time": "2024-07-31T07:49:45.172402Z",
     "start_time": "2024-07-31T07:49:45.168688Z"
    }
   },
   "cell_type": "code",
   "source": [
    "def forward(x):\n",
    "    yhat = weight * x + bias\n",
    "    return yhat"
   ],
   "id": "ca7bfefe4000b5db",
   "outputs": [],
   "execution_count": 3
  },
  {
   "metadata": {
    "ExecuteTime": {
     "end_time": "2024-07-31T07:51:07.566128Z",
     "start_time": "2024-07-31T07:51:07.561415Z"
    }
   },
   "cell_type": "code",
   "source": [
    "x = torch.tensor([1.0])\n",
    "yhat = forward(x)\n",
    "print(yhat)"
   ],
   "id": "8f9cd2d817a4dde2",
   "outputs": [
    {
     "name": "stdout",
     "output_type": "stream",
     "text": [
      "tensor([1.])\n"
     ]
    }
   ],
   "execution_count": 4
  },
  {
   "metadata": {
    "ExecuteTime": {
     "end_time": "2024-07-31T07:52:47.061333Z",
     "start_time": "2024-07-31T07:52:47.057026Z"
    }
   },
   "cell_type": "code",
   "source": [
    "x = torch.tensor([[1.0], [2.0], [3.0]])\n",
    "print(forward(x))"
   ],
   "id": "47b7ade710ec46cc",
   "outputs": [
    {
     "name": "stdout",
     "output_type": "stream",
     "text": [
      "tensor([[1.],\n",
      "        [3.],\n",
      "        [5.]])\n"
     ]
    }
   ],
   "execution_count": 5
  },
  {
   "metadata": {},
   "cell_type": "markdown",
   "source": "### Linear Regression",
   "id": "a75a45e755e1ed6f"
  },
  {
   "metadata": {
    "ExecuteTime": {
     "end_time": "2024-07-31T07:56:48.605171Z",
     "start_time": "2024-07-31T07:56:48.585713Z"
    }
   },
   "cell_type": "code",
   "source": [
    "from torch.nn import Linear\n",
    "torch.manual_seed(101)"
   ],
   "id": "bf622c115b7ece31",
   "outputs": [
    {
     "data": {
      "text/plain": [
       "<torch._C.Generator at 0x10543b4f0>"
      ]
     },
     "execution_count": 2,
     "metadata": {},
     "output_type": "execute_result"
    }
   ],
   "execution_count": 2
  },
  {
   "metadata": {
    "ExecuteTime": {
     "end_time": "2024-07-31T07:57:19.648296Z",
     "start_time": "2024-07-31T07:57:19.643847Z"
    }
   },
   "cell_type": "code",
   "source": [
    "model = Linear(in_features=1, out_features=1, bias=True)\n",
    "model"
   ],
   "id": "45f966e15f1514af",
   "outputs": [
    {
     "data": {
      "text/plain": [
       "Linear(in_features=1, out_features=1, bias=True)"
      ]
     },
     "execution_count": 3,
     "metadata": {},
     "output_type": "execute_result"
    }
   ],
   "execution_count": 3
  },
  {
   "metadata": {
    "ExecuteTime": {
     "end_time": "2024-07-31T08:03:53.593366Z",
     "start_time": "2024-07-31T08:03:53.587875Z"
    }
   },
   "cell_type": "code",
   "source": [
    "print(model.state_dict())\n",
    "w = model.state_dict()['weight']\n",
    "b = model.state_dict()['bias']\n",
    "w, b"
   ],
   "id": "c63f53941b42eaab",
   "outputs": [
    {
     "name": "stdout",
     "output_type": "stream",
     "text": [
      "OrderedDict([('weight', tensor([[-0.6039]])), ('bias', tensor([-0.0994]))])\n"
     ]
    },
    {
     "data": {
      "text/plain": [
       "(tensor([[-0.6039]]), tensor([-0.0994]))"
      ]
     },
     "execution_count": 8,
     "metadata": {},
     "output_type": "execute_result"
    }
   ],
   "execution_count": 8
  },
  {
   "metadata": {
    "ExecuteTime": {
     "end_time": "2024-07-31T08:04:40.431039Z",
     "start_time": "2024-07-31T08:04:40.425510Z"
    }
   },
   "cell_type": "code",
   "source": [
    "model.state_dict()['weight'][0] = torch.tensor(2)\n",
    "model.state_dict()['bias'][0] = torch.tensor(-1)\n",
    "\n",
    "model.state_dict()"
   ],
   "id": "5f129fd67c537bc3",
   "outputs": [
    {
     "data": {
      "text/plain": [
       "OrderedDict([('weight', tensor([[2.]])), ('bias', tensor([-1.]))])"
      ]
     },
     "execution_count": 10,
     "metadata": {},
     "output_type": "execute_result"
    }
   ],
   "execution_count": 10
  },
  {
   "metadata": {
    "ExecuteTime": {
     "end_time": "2024-07-31T08:38:47.201255Z",
     "start_time": "2024-07-31T08:38:47.196319Z"
    }
   },
   "cell_type": "code",
   "source": "print(model.state_dict()['bias'][0], model.state_dict()['bias'])",
   "id": "cce9547d7b556de7",
   "outputs": [
    {
     "name": "stdout",
     "output_type": "stream",
     "text": [
      "tensor(-1.) tensor([-1.])\n"
     ]
    }
   ],
   "execution_count": 17
  },
  {
   "metadata": {
    "ExecuteTime": {
     "end_time": "2024-07-31T08:42:15.532500Z",
     "start_time": "2024-07-31T08:42:15.529116Z"
    }
   },
   "cell_type": "code",
   "source": [
    "x = torch.tensor([[1.0]])\n",
    "yhat = model(x)\n",
    "print(yhat)"
   ],
   "id": "641a073856e08ead",
   "outputs": [
    {
     "name": "stdout",
     "output_type": "stream",
     "text": [
      "1.0\n"
     ]
    }
   ],
   "execution_count": 25
  },
  {
   "metadata": {},
   "cell_type": "markdown",
   "source": "### 사용자 정의 모듈",
   "id": "cf01ce3ed5290cc6"
  },
  {
   "metadata": {
    "ExecuteTime": {
     "end_time": "2024-07-31T09:30:07.228010Z",
     "start_time": "2024-07-31T09:30:07.221689Z"
    }
   },
   "cell_type": "code",
   "source": [
    "from torch import nn\n",
    "\n",
    "class LR(nn.Module):\n",
    "    def __init__(self, input_size, output_size):\n",
    "        super(LR, self).__init__() # LR, self 는 python 3 이상 부터는 옵셔널\n",
    "        self.linear = nn.Linear(input_size, output_size)\n",
    "        \n",
    "    def forward(self, x):\n",
    "        out = self.linear(x)\n",
    "        return out"
   ],
   "id": "58022ec612450d0b",
   "outputs": [],
   "execution_count": 26
  },
  {
   "metadata": {
    "ExecuteTime": {
     "end_time": "2024-07-31T09:31:15.097277Z",
     "start_time": "2024-07-31T09:31:15.091764Z"
    }
   },
   "cell_type": "code",
   "source": [
    "model = LR(1, 1)\n",
    "model.state_dict()"
   ],
   "id": "2c1bef84b9957158",
   "outputs": [
    {
     "data": {
      "text/plain": [
       "OrderedDict([('linear.weight', tensor([[-0.8182]])),\n",
       "             ('linear.bias', tensor([0.7744]))])"
      ]
     },
     "execution_count": 27,
     "metadata": {},
     "output_type": "execute_result"
    }
   ],
   "execution_count": 27
  },
  {
   "metadata": {
    "ExecuteTime": {
     "end_time": "2024-07-31T09:32:42.552246Z",
     "start_time": "2024-07-31T09:32:42.547141Z"
    }
   },
   "cell_type": "code",
   "source": [
    "model.state_dict()['linear.weight'][0] = torch.tensor(2)\n",
    "model.state_dict()['linear.bias'][0] = torch.tensor(-1)\n",
    "model.state_dict()"
   ],
   "id": "3e48bafddd665211",
   "outputs": [
    {
     "data": {
      "text/plain": [
       "OrderedDict([('linear.weight', tensor([[2.]])),\n",
       "             ('linear.bias', tensor([-1.]))])"
      ]
     },
     "execution_count": 28,
     "metadata": {},
     "output_type": "execute_result"
    }
   ],
   "execution_count": 28
  },
  {
   "metadata": {
    "ExecuteTime": {
     "end_time": "2024-07-31T09:33:58.059519Z",
     "start_time": "2024-07-31T09:33:58.054772Z"
    }
   },
   "cell_type": "code",
   "source": "list(model.parameters())",
   "id": "85341f90f2aa9c0a",
   "outputs": [
    {
     "data": {
      "text/plain": [
       "[Parameter containing:\n",
       " tensor([[2.]], requires_grad=True),\n",
       " Parameter containing:\n",
       " tensor([-1.], requires_grad=True)]"
      ]
     },
     "execution_count": 29,
     "metadata": {},
     "output_type": "execute_result"
    }
   ],
   "execution_count": 29
  },
  {
   "metadata": {
    "ExecuteTime": {
     "end_time": "2024-07-31T09:35:35.121087Z",
     "start_time": "2024-07-31T09:35:35.117203Z"
    }
   },
   "cell_type": "code",
   "source": [
    "x = torch.tensor([[1.0], [2.0], [3.0]])\n",
    "yhat = model(x)\n",
    "print(yhat)"
   ],
   "id": "1e80297f629e73af",
   "outputs": [
    {
     "name": "stdout",
     "output_type": "stream",
     "text": [
      "tensor([[1.],\n",
      "        [3.],\n",
      "        [5.]], grad_fn=<AddmmBackward0>)\n"
     ]
    }
   ],
   "execution_count": 31
  },
  {
   "metadata": {
    "ExecuteTime": {
     "end_time": "2024-07-31T09:39:55.547732Z",
     "start_time": "2024-07-31T09:39:55.544359Z"
    }
   },
   "cell_type": "code",
   "source": "yhat.detach().numpy()",
   "id": "7dae610215846e35",
   "outputs": [
    {
     "data": {
      "text/plain": [
       "array([[1.],\n",
       "       [3.],\n",
       "       [5.]], dtype=float32)"
      ]
     },
     "execution_count": 34,
     "metadata": {},
     "output_type": "execute_result"
    }
   ],
   "execution_count": 34
  },
  {
   "metadata": {},
   "cell_type": "markdown",
   "source": "### Backpropagation & 경사하강법",
   "id": "73627d5d7f8fe38a"
  },
  {
   "metadata": {
    "ExecuteTime": {
     "end_time": "2024-07-31T10:24:56.506929Z",
     "start_time": "2024-07-31T10:24:56.499930Z"
    }
   },
   "cell_type": "code",
   "source": [
    "# 습도, 강수량, 최고온도, 최저온도\n",
    "inputs = np.array([\n",
    "    [73, 67, 43, 10],\n",
    "    [91, 88, 64, 5],\n",
    "    [87, 134, 58, 2],\n",
    "    [102, 43, 37, 4],\n",
    "    [69, 96, 70, 5]], dtype='float32')\n",
    "\n",
    "# 사과 수확량, 오랜지 수확량\n",
    "targets = np.array([\n",
    "    [56, 70],\n",
    "    [81, 101],\n",
    "    [119, 133],\n",
    "    [22, 37],\n",
    "    [103, 119]], dtype='float32')"
   ],
   "id": "fbe46a9c5c909e7",
   "outputs": [],
   "execution_count": 2
  },
  {
   "metadata": {
    "ExecuteTime": {
     "end_time": "2024-07-31T10:24:59.271769Z",
     "start_time": "2024-07-31T10:24:59.267197Z"
    }
   },
   "cell_type": "code",
   "source": [
    "inputs = torch.from_numpy(inputs)\n",
    "targets = torch.from_numpy(targets)\n",
    "print(inputs.size())\n",
    "print(targets.size())"
   ],
   "id": "40338fa9efa1a539",
   "outputs": [
    {
     "name": "stdout",
     "output_type": "stream",
     "text": [
      "torch.Size([5, 4])\n",
      "torch.Size([5, 2])\n"
     ]
    }
   ],
   "execution_count": 3
  },
  {
   "metadata": {
    "ExecuteTime": {
     "end_time": "2024-07-31T10:30:57.191447Z",
     "start_time": "2024-07-31T10:30:57.183339Z"
    }
   },
   "cell_type": "code",
   "source": [
    "from torch import nn\n",
    "from torch.nn import Linear\n",
    "from torch import optim\n",
    "torch.manual_seed(1)"
   ],
   "id": "af4829d18c28eaf7",
   "outputs": [
    {
     "data": {
      "text/plain": [
       "<torch._C.Generator at 0x11936d4f0>"
      ]
     },
     "execution_count": 10,
     "metadata": {},
     "output_type": "execute_result"
    }
   ],
   "execution_count": 10
  },
  {
   "metadata": {
    "ExecuteTime": {
     "end_time": "2024-07-31T10:30:58.517741Z",
     "start_time": "2024-07-31T10:30:57.982573Z"
    }
   },
   "cell_type": "code",
   "source": [
    "model = Linear(in_features=4, out_features=2)\n",
    "criterion = nn.MSELoss()\n",
    "optimizer = optim.SGD(model.parameters(), lr=1e-4)"
   ],
   "id": "b3cbc5b63b722b4f",
   "outputs": [],
   "execution_count": 11
  },
  {
   "metadata": {
    "ExecuteTime": {
     "end_time": "2024-07-31T10:34:05.601100Z",
     "start_time": "2024-07-31T10:34:05.464038Z"
    }
   },
   "cell_type": "code",
   "source": [
    "for epoch in range(100):\n",
    "    for x, y in zip(inputs, targets):\n",
    "        optimizer.zero_grad()\n",
    "        yhat = model(x)\n",
    "        loss = criterion(yhat, y)\n",
    "        loss.backward()\n",
    "        optimizer.step()"
   ],
   "id": "b10109c3e72b948d",
   "outputs": [],
   "execution_count": 12
  },
  {
   "metadata": {
    "ExecuteTime": {
     "end_time": "2024-07-31T10:34:59.660877Z",
     "start_time": "2024-07-31T10:34:59.656610Z"
    }
   },
   "cell_type": "code",
   "source": [
    "preds = model(inputs)\n",
    "preds"
   ],
   "id": "e2639db402d01556",
   "outputs": [
    {
     "data": {
      "text/plain": [
       "tensor([[ 58.0216,  69.7470],\n",
       "        [ 83.1565,  98.7855],\n",
       "        [119.9650, 128.4409],\n",
       "        [ 21.8396,  34.9880],\n",
       "        [102.8034, 117.8936]], grad_fn=<AddmmBackward0>)"
      ]
     },
     "execution_count": 13,
     "metadata": {},
     "output_type": "execute_result"
    }
   ],
   "execution_count": 13
  },
  {
   "metadata": {
    "ExecuteTime": {
     "end_time": "2024-07-31T10:35:49.850771Z",
     "start_time": "2024-07-31T10:35:49.846717Z"
    }
   },
   "cell_type": "code",
   "source": [
    "loss = criterion(preds, targets)\n",
    "loss"
   ],
   "id": "5897f5e438754e70",
   "outputs": [
    {
     "data": {
      "text/plain": [
       "tensor(4.0759, grad_fn=<MseLossBackward0>)"
      ]
     },
     "execution_count": 14,
     "metadata": {},
     "output_type": "execute_result"
    }
   ],
   "execution_count": 14
  },
  {
   "metadata": {},
   "cell_type": "markdown",
   "source": "### 사용자 정의 모델",
   "id": "714b8399ccb2aa22"
  },
  {
   "metadata": {
    "ExecuteTime": {
     "end_time": "2024-07-31T10:39:36.395515Z",
     "start_time": "2024-07-31T10:39:36.390010Z"
    }
   },
   "cell_type": "code",
   "source": [
    "class LinearReg(nn.Module):\n",
    "    def __init__(self, input_size, output_size):\n",
    "        super(LinearReg, self).__init__()\n",
    "        self.fc = nn.Linear(input_size, output_size)\n",
    "        \n",
    "    def forward(self, x):\n",
    "        yhat = self.fc(x)\n",
    "        return yhat"
   ],
   "id": "944df37d690b42f3",
   "outputs": [],
   "execution_count": 15
  },
  {
   "metadata": {
    "ExecuteTime": {
     "end_time": "2024-07-31T10:41:43.929227Z",
     "start_time": "2024-07-31T10:41:43.926255Z"
    }
   },
   "cell_type": "code",
   "source": [
    "model = LinearReg(inputs.shape[1], targets.shape[1])\n",
    "criterion = nn.MSELoss()\n",
    "optimizer = optim.SGD(model.parameters(), lr=0.00001)"
   ],
   "id": "1907f45ef00a3100",
   "outputs": [],
   "execution_count": 17
  },
  {
   "metadata": {
    "ExecuteTime": {
     "end_time": "2024-07-31T10:42:15.636772Z",
     "start_time": "2024-07-31T10:42:15.633558Z"
    }
   },
   "cell_type": "code",
   "source": [
    "print(model)\n",
    "print(model.state_dict())\n",
    "print(optimizer.state_dict())"
   ],
   "id": "5fabfa46e4755c45",
   "outputs": [
    {
     "name": "stdout",
     "output_type": "stream",
     "text": [
      "LinearReg(\n",
      "  (fc): Linear(in_features=4, out_features=2, bias=True)\n",
      ")\n",
      "OrderedDict([('fc.weight', tensor([[ 0.1387,  0.0247,  0.1826, -0.1949],\n",
      "        [-0.0365, -0.0450,  0.0725, -0.0020]])), ('fc.bias', tensor([0.4371, 0.1556]))])\n",
      "{'state': {}, 'param_groups': [{'lr': 1e-05, 'momentum': 0, 'dampening': 0, 'weight_decay': 0, 'nesterov': False, 'maximize': False, 'foreach': None, 'differentiable': False, 'fused': None, 'params': [0, 1]}]}\n"
     ]
    }
   ],
   "execution_count": 18
  },
  {
   "metadata": {
    "ExecuteTime": {
     "end_time": "2024-07-31T10:45:30.824900Z",
     "start_time": "2024-07-31T10:45:30.280154Z"
    }
   },
   "cell_type": "code",
   "source": [
    "for epoch in range(1000):\n",
    "    for x, y in zip(inputs, targets):\n",
    "        optimizer.zero_grad()\n",
    "        yhat = model(x)\n",
    "        loss = criterion(yhat, y)\n",
    "        loss.backward()\n",
    "        optimizer.step()"
   ],
   "id": "53d4a76d260ca4c7",
   "outputs": [],
   "execution_count": 37
  },
  {
   "metadata": {
    "ExecuteTime": {
     "end_time": "2024-07-31T10:47:21.498122Z",
     "start_time": "2024-07-31T10:47:21.490452Z"
    }
   },
   "cell_type": "code",
   "source": [
    "preds = model(inputs)\n",
    "loss = criterion(preds, targets)\n",
    "print(preds, targets, loss)\n",
    "print(model.state_dict())"
   ],
   "id": "66aeb1d53e7fb5a4",
   "outputs": [
    {
     "name": "stdout",
     "output_type": "stream",
     "text": [
      "tensor([[ 55.9965,  70.0007],\n",
      "        [ 82.5451, 100.6955],\n",
      "        [119.2682, 132.9472],\n",
      "        [ 21.6085,  37.0771],\n",
      "        [102.1818, 119.1612]], grad_fn=<AddmmBackward0>) tensor([[ 56.,  70.],\n",
      "        [ 81., 101.],\n",
      "        [119., 133.],\n",
      "        [ 22.,  37.],\n",
      "        [103., 119.]]) tensor(0.3409, grad_fn=<MseLossBackward0>)\n",
      "OrderedDict([('fc.weight', tensor([[-0.3949,  0.8401,  0.7048, -0.2424],\n",
      "        [-0.3017,  0.7911,  0.9168, -0.0519]])), ('fc.bias', tensor([0.6497, 0.1153]))])\n"
     ]
    }
   ],
   "execution_count": 40
  },
  {
   "metadata": {
    "ExecuteTime": {
     "end_time": "2024-07-31T10:45:36.624414Z",
     "start_time": "2024-07-31T10:45:36.621117Z"
    }
   },
   "cell_type": "code",
   "source": "torch.save(model.state_dict(), 'model.pt')",
   "id": "a273d94943b869bc",
   "outputs": [],
   "execution_count": 39
  },
  {
   "metadata": {},
   "cell_type": "code",
   "outputs": [],
   "execution_count": null,
   "source": [
    "reload_model = LinearReg(inputs.shape[1], targets.shape[1])\n",
    "reload_model.load_state_dict(torch.load('model.pt'))"
   ],
   "id": "6bfdd04dff9412f6"
  }
 ],
 "metadata": {
  "kernelspec": {
   "display_name": "Python 3",
   "language": "python",
   "name": "python3"
  },
  "language_info": {
   "codemirror_mode": {
    "name": "ipython",
    "version": 2
   },
   "file_extension": ".py",
   "mimetype": "text/x-python",
   "name": "python",
   "nbconvert_exporter": "python",
   "pygments_lexer": "ipython2",
   "version": "2.7.6"
  }
 },
 "nbformat": 4,
 "nbformat_minor": 5
}
