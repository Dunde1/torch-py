{
 "cells": [
  {
   "cell_type": "code",
   "id": "initial_id",
   "metadata": {
    "collapsed": true,
    "ExecuteTime": {
     "end_time": "2024-07-30T01:58:27.249777Z",
     "start_time": "2024-07-30T01:58:27.246368Z"
    }
   },
   "source": [
    "import numpy as np\n",
    "import torch\n",
    "from torch.utils.data import Dataset"
   ],
   "outputs": [],
   "execution_count": 35
  },
  {
   "metadata": {
    "ExecuteTime": {
     "end_time": "2024-07-30T01:56:26.025801Z",
     "start_time": "2024-07-30T01:56:26.022490Z"
    }
   },
   "cell_type": "code",
   "source": [
    "class ToySet(Dataset):\n",
    "    def __init__(self, length=100, transform=None):\n",
    "        torch.manual_seed(101)\n",
    "        self.x = 2 * torch.rand(length, 2)\n",
    "        self.y = torch.ones(length, 1)\n",
    "        self.len = length\n",
    "        self.transform = transform\n",
    "        \n",
    "    def __getitem__(self, index):\n",
    "        sample = self.x[index], self.y[index]\n",
    "        if self.transform:\n",
    "            sample = self.transform(sample)\n",
    "        return sample\n",
    "    \n",
    "    def __len__(self):\n",
    "        return self.len"
   ],
   "id": "649f4b969c18198e",
   "outputs": [],
   "execution_count": 23
  },
  {
   "metadata": {
    "ExecuteTime": {
     "end_time": "2024-07-30T01:56:26.031695Z",
     "start_time": "2024-07-30T01:56:26.027457Z"
    }
   },
   "cell_type": "code",
   "source": [
    "test_set = ToySet()\n",
    "\n",
    "len(test_set)"
   ],
   "id": "6d4096bc600966b3",
   "outputs": [
    {
     "data": {
      "text/plain": [
       "100"
      ]
     },
     "execution_count": 24,
     "metadata": {},
     "output_type": "execute_result"
    }
   ],
   "execution_count": 24
  },
  {
   "metadata": {
    "ExecuteTime": {
     "end_time": "2024-07-30T01:56:26.036699Z",
     "start_time": "2024-07-30T01:56:26.032774Z"
    }
   },
   "cell_type": "code",
   "source": [
    "for i in range(3):\n",
    "    x, y = test_set[i]\n",
    "    print(x, y)"
   ],
   "id": "39d94e4da25326e8",
   "outputs": [
    {
     "name": "stdout",
     "output_type": "stream",
     "text": [
      "tensor([0.3961, 0.9006]) tensor([1.])\n",
      "tensor([0.1818, 1.7744]) tensor([1.])\n",
      "tensor([0.5788, 0.0372]) tensor([1.])\n"
     ]
    }
   ],
   "execution_count": 25
  },
  {
   "metadata": {
    "ExecuteTime": {
     "end_time": "2024-07-30T01:56:26.040666Z",
     "start_time": "2024-07-30T01:56:26.037955Z"
    }
   },
   "cell_type": "code",
   "source": [
    "for x, y in test_set:\n",
    "    print(x, y)\n",
    "    break"
   ],
   "id": "f036f73ac7215f9f",
   "outputs": [
    {
     "name": "stdout",
     "output_type": "stream",
     "text": [
      "tensor([0.3961, 0.9006]) tensor([1.])\n"
     ]
    }
   ],
   "execution_count": 26
  },
  {
   "metadata": {
    "ExecuteTime": {
     "end_time": "2024-07-30T01:56:26.045556Z",
     "start_time": "2024-07-30T01:56:26.041856Z"
    }
   },
   "cell_type": "code",
   "source": [
    "data = iter(test_set)\n",
    "for i in range(3):\n",
    "    print(next(data))"
   ],
   "id": "df96e4035f70894a",
   "outputs": [
    {
     "name": "stdout",
     "output_type": "stream",
     "text": [
      "(tensor([0.3961, 0.9006]), tensor([1.]))\n",
      "(tensor([0.1818, 1.7744]), tensor([1.]))\n",
      "(tensor([0.5788, 0.0372]), tensor([1.]))\n"
     ]
    }
   ],
   "execution_count": 27
  },
  {
   "metadata": {
    "ExecuteTime": {
     "end_time": "2024-07-30T01:56:26.048279Z",
     "start_time": "2024-07-30T01:56:26.046305Z"
    }
   },
   "cell_type": "code",
   "source": [
    "def scaling(sample):\n",
    "    x, y = sample\n",
    "    scaled_x = x / 255.\n",
    "    scaled_y = y / 10.\n",
    "    return scaled_x, scaled_y"
   ],
   "id": "d0bb4a83939c35b3",
   "outputs": [],
   "execution_count": 28
  },
  {
   "metadata": {
    "ExecuteTime": {
     "end_time": "2024-07-30T01:56:26.052906Z",
     "start_time": "2024-07-30T01:56:26.049179Z"
    }
   },
   "cell_type": "code",
   "source": [
    "dataset_ = ToySet(10, transform=scaling)\n",
    "\n",
    "len(dataset_)"
   ],
   "id": "77a54f54a6100b8f",
   "outputs": [
    {
     "data": {
      "text/plain": [
       "10"
      ]
     },
     "execution_count": 29,
     "metadata": {},
     "output_type": "execute_result"
    }
   ],
   "execution_count": 29
  },
  {
   "metadata": {
    "ExecuteTime": {
     "end_time": "2024-07-30T01:56:26.057944Z",
     "start_time": "2024-07-30T01:56:26.053679Z"
    }
   },
   "cell_type": "code",
   "source": "dataset_[0], dataset_[-1]",
   "id": "28d4c7d501715670",
   "outputs": [
    {
     "data": {
      "text/plain": [
       "((tensor([0.0016, 0.0035]), tensor([0.1000])),\n",
       " (tensor([0.0049, 0.0029]), tensor([0.1000])))"
      ]
     },
     "execution_count": 30,
     "metadata": {},
     "output_type": "execute_result"
    }
   ],
   "execution_count": 30
  },
  {
   "metadata": {
    "ExecuteTime": {
     "end_time": "2024-07-30T01:56:26.061994Z",
     "start_time": "2024-07-30T01:56:26.059783Z"
    }
   },
   "cell_type": "code",
   "source": [
    "class AddOnes:\n",
    "    def __init__(self, added=1):\n",
    "        self.added = added\n",
    "        \n",
    "    def __call__(self, sample):\n",
    "        x, y = sample\n",
    "        x = x + self.added\n",
    "        y = y + self.added\n",
    "        sample = x, y\n",
    "        return sample"
   ],
   "id": "3a807cac3143ab5",
   "outputs": [],
   "execution_count": 31
  },
  {
   "metadata": {
    "ExecuteTime": {
     "end_time": "2024-07-30T01:56:26.066986Z",
     "start_time": "2024-07-30T01:56:26.062804Z"
    }
   },
   "cell_type": "code",
   "source": [
    "a_m = AddOnes()\n",
    "\n",
    "dataset_ = ToySet(10, transform=a_m)\n",
    "dataset_[-1]"
   ],
   "id": "682f0fed4f46ba68",
   "outputs": [
    {
     "data": {
      "text/plain": [
       "(tensor([2.2487, 1.7367]), tensor([2.]))"
      ]
     },
     "execution_count": 32,
     "metadata": {},
     "output_type": "execute_result"
    }
   ],
   "execution_count": 32
  },
  {
   "metadata": {
    "ExecuteTime": {
     "end_time": "2024-07-30T01:56:26.072400Z",
     "start_time": "2024-07-30T01:56:26.067957Z"
    }
   },
   "cell_type": "code",
   "source": [
    "from torchvision import transforms\n",
    "\n",
    "data_transforms = transforms.Compose([scaling, a_m])\n",
    "data1 = ToySet(5, transform=data_transforms)\n",
    "data1[-1]"
   ],
   "id": "f9b6d598bf300c2a",
   "outputs": [
    {
     "data": {
      "text/plain": [
       "(tensor([1.0034, 1.0057]), tensor([1.1000]))"
      ]
     },
     "execution_count": 33,
     "metadata": {},
     "output_type": "execute_result"
    }
   ],
   "execution_count": 33
  },
  {
   "metadata": {
    "ExecuteTime": {
     "end_time": "2024-07-30T01:58:08.326911Z",
     "start_time": "2024-07-30T01:58:08.324185Z"
    }
   },
   "cell_type": "code",
   "source": [
    "from torchvision import transforms\n",
    "from torchvision import datasets"
   ],
   "id": "c10199a380e5fac1",
   "outputs": [],
   "execution_count": 34
  },
  {
   "metadata": {
    "ExecuteTime": {
     "end_time": "2024-07-30T02:03:02.291985Z",
     "start_time": "2024-07-30T02:02:40.155523Z"
    }
   },
   "cell_type": "code",
   "source": [
    "crop_tensor_transform = transforms.Compose([\n",
    "    transforms.CenterCrop(20),\n",
    "    transforms.ToTensor()\n",
    "])\n",
    "\n",
    "training_data = datasets.MNIST(\n",
    "    root='data',\n",
    "    train=True,\n",
    "    download=True,\n",
    "    transform=crop_tensor_transform,\n",
    ")\n",
    "\n",
    "test_data = datasets.MNIST(\n",
    "    root='data',\n",
    "    train=False,\n",
    "    download=True,\n",
    "    transform=crop_tensor_transform,\n",
    ")"
   ],
   "id": "18b5ceb3317fe11e",
   "outputs": [
    {
     "name": "stdout",
     "output_type": "stream",
     "text": [
      "Downloading http://yann.lecun.com/exdb/mnist/train-images-idx3-ubyte.gz\n",
      "Failed to download (trying next):\n",
      "HTTP Error 403: Forbidden\n",
      "\n",
      "Downloading https://ossci-datasets.s3.amazonaws.com/mnist/train-images-idx3-ubyte.gz\n",
      "Downloading https://ossci-datasets.s3.amazonaws.com/mnist/train-images-idx3-ubyte.gz to data/MNIST/raw/train-images-idx3-ubyte.gz\n"
     ]
    },
    {
     "name": "stderr",
     "output_type": "stream",
     "text": [
      "100.0%\n"
     ]
    },
    {
     "name": "stdout",
     "output_type": "stream",
     "text": [
      "Extracting data/MNIST/raw/train-images-idx3-ubyte.gz to data/MNIST/raw\n",
      "\n",
      "Downloading http://yann.lecun.com/exdb/mnist/train-labels-idx1-ubyte.gz\n",
      "Failed to download (trying next):\n",
      "HTTP Error 403: Forbidden\n",
      "\n",
      "Downloading https://ossci-datasets.s3.amazonaws.com/mnist/train-labels-idx1-ubyte.gz\n",
      "Downloading https://ossci-datasets.s3.amazonaws.com/mnist/train-labels-idx1-ubyte.gz to data/MNIST/raw/train-labels-idx1-ubyte.gz\n"
     ]
    },
    {
     "name": "stderr",
     "output_type": "stream",
     "text": [
      "100.0%\n"
     ]
    },
    {
     "name": "stdout",
     "output_type": "stream",
     "text": [
      "Extracting data/MNIST/raw/train-labels-idx1-ubyte.gz to data/MNIST/raw\n",
      "\n",
      "Downloading http://yann.lecun.com/exdb/mnist/t10k-images-idx3-ubyte.gz\n",
      "Failed to download (trying next):\n",
      "HTTP Error 403: Forbidden\n",
      "\n",
      "Downloading https://ossci-datasets.s3.amazonaws.com/mnist/t10k-images-idx3-ubyte.gz\n",
      "Downloading https://ossci-datasets.s3.amazonaws.com/mnist/t10k-images-idx3-ubyte.gz to data/MNIST/raw/t10k-images-idx3-ubyte.gz\n"
     ]
    },
    {
     "name": "stderr",
     "output_type": "stream",
     "text": [
      "100.0%\n"
     ]
    },
    {
     "name": "stdout",
     "output_type": "stream",
     "text": [
      "Extracting data/MNIST/raw/t10k-images-idx3-ubyte.gz to data/MNIST/raw\n",
      "\n",
      "Downloading http://yann.lecun.com/exdb/mnist/t10k-labels-idx1-ubyte.gz\n",
      "Failed to download (trying next):\n",
      "HTTP Error 403: Forbidden\n",
      "\n",
      "Downloading https://ossci-datasets.s3.amazonaws.com/mnist/t10k-labels-idx1-ubyte.gz\n",
      "Downloading https://ossci-datasets.s3.amazonaws.com/mnist/t10k-labels-idx1-ubyte.gz to data/MNIST/raw/t10k-labels-idx1-ubyte.gz\n"
     ]
    },
    {
     "name": "stderr",
     "output_type": "stream",
     "text": [
      "100.0%"
     ]
    },
    {
     "name": "stdout",
     "output_type": "stream",
     "text": [
      "Extracting data/MNIST/raw/t10k-labels-idx1-ubyte.gz to data/MNIST/raw\n",
      "\n"
     ]
    },
    {
     "name": "stderr",
     "output_type": "stream",
     "text": [
      "\n"
     ]
    }
   ],
   "execution_count": 36
  },
  {
   "metadata": {
    "ExecuteTime": {
     "end_time": "2024-07-30T02:09:09.624938Z",
     "start_time": "2024-07-30T02:09:09.621295Z"
    }
   },
   "cell_type": "code",
   "source": [
    "print(training_data.data.shape)\n",
    "print(test_data.data.shape)"
   ],
   "id": "f8d81c71acec6030",
   "outputs": [
    {
     "name": "stdout",
     "output_type": "stream",
     "text": [
      "torch.Size([60000, 28, 28])\n",
      "torch.Size([10000, 28, 28])\n"
     ]
    }
   ],
   "execution_count": 45
  },
  {
   "metadata": {
    "ExecuteTime": {
     "end_time": "2024-07-30T02:09:46.308128Z",
     "start_time": "2024-07-30T02:09:46.303537Z"
    }
   },
   "cell_type": "code",
   "source": "training_data[0][1]",
   "id": "e7f63e03d8662df4",
   "outputs": [
    {
     "data": {
      "text/plain": [
       "5"
      ]
     },
     "execution_count": 50,
     "metadata": {},
     "output_type": "execute_result"
    }
   ],
   "execution_count": 50
  },
  {
   "metadata": {
    "ExecuteTime": {
     "end_time": "2024-07-30T02:15:28.400691Z",
     "start_time": "2024-07-30T02:15:28.266426Z"
    }
   },
   "cell_type": "code",
   "source": [
    "import matplotlib.pyplot as plt\n",
    "plt.imshow(training_data[1][0].view(20, 20), cmap='gray')\n",
    "plt.title(\"Label = {}\".format(training_data[1][1]))\n",
    "plt.show()"
   ],
   "id": "d1c123f273eb3ea",
   "outputs": [
    {
     "data": {
      "text/plain": [
       "<Figure size 640x480 with 1 Axes>"
      ],
      "image/png": "[encoded data removed]"
     },
     "metadata": {},
     "output_type": "display_data"
    }
   ],
   "execution_count": 55
  },
  {
   "metadata": {
    "ExecuteTime": {
     "end_time": "2024-07-30T02:20:32.237320Z",
     "start_time": "2024-07-30T02:20:32.230192Z"
    }
   },
   "cell_type": "code",
   "source": [
    "from torch.utils.data import DataLoader\n",
    "\n",
    "train_dataloader = DataLoader(training_data, batch_size=64, shuffle=True)\n",
    "test_dataloader = DataLoader(test_data, batch_size=64, shuffle=False)"
   ],
   "id": "92cfcf1518870c19",
   "outputs": [],
   "execution_count": 56
  },
  {
   "metadata": {
    "ExecuteTime": {
     "end_time": "2024-07-30T02:22:25.174178Z",
     "start_time": "2024-07-30T02:22:25.161564Z"
    }
   },
   "cell_type": "code",
   "source": [
    "train_features, train_labels = next(iter(train_dataloader))\n",
    "train_features.size(), train_labels.size()"
   ],
   "id": "86d031891676d341",
   "outputs": [
    {
     "data": {
      "text/plain": [
       "(torch.Size([64, 1, 20, 20]), torch.Size([64]))"
      ]
     },
     "execution_count": 59,
     "metadata": {},
     "output_type": "execute_result"
    }
   ],
   "execution_count": 59
  },
  {
   "metadata": {
    "ExecuteTime": {
     "end_time": "2024-07-30T02:23:17.641021Z",
     "start_time": "2024-07-30T02:23:17.635993Z"
    }
   },
   "cell_type": "code",
   "source": [
    "img = train_features[0].squeeze()\n",
    "label = train_labels[0]\n",
    "img.size(), label"
   ],
   "id": "50b08964d2d468c",
   "outputs": [
    {
     "data": {
      "text/plain": [
       "(torch.Size([20, 20]), tensor(8))"
      ]
     },
     "execution_count": 60,
     "metadata": {},
     "output_type": "execute_result"
    }
   ],
   "execution_count": 60
  },
  {
   "metadata": {
    "ExecuteTime": {
     "end_time": "2024-07-30T02:23:49.468250Z",
     "start_time": "2024-07-30T02:23:49.390529Z"
    }
   },
   "cell_type": "code",
   "source": [
    "plt.imshow(img, cmap='gray')\n",
    "plt.show()"
   ],
   "id": "4e827478c31a96bb",
   "outputs": [
    {
     "data": {
      "text/plain": [
       "<Figure size 640x480 with 1 Axes>"
      ],
      "image/png": "[encoded data removed]"
     },
     "metadata": {},
     "output_type": "display_data"
    }
   ],
   "execution_count": 62
  },
  {
   "metadata": {
    "ExecuteTime": {
     "end_time": "2024-07-30T02:25:49.678005Z",
     "start_time": "2024-07-30T02:25:49.675615Z"
    }
   },
   "cell_type": "code",
   "source": "from torch.utils.data import TensorDataset",
   "id": "5714613b7513e290",
   "outputs": [],
   "execution_count": 63
  },
  {
   "metadata": {
    "ExecuteTime": {
     "end_time": "2024-07-30T02:27:55.059499Z",
     "start_time": "2024-07-30T02:27:55.053559Z"
    }
   },
   "cell_type": "code",
   "source": [
    "X = np.random.randn(5, 4)\n",
    "Y = np.random.randint(0, 2, size=5)\n",
    "\n",
    "X_train = torch.from_numpy(X)\n",
    "Y_train = torch.from_numpy(Y)\n",
    "\n",
    "print(X_train)\n",
    "print(Y_train)"
   ],
   "id": "2b25ca41f7312bf9",
   "outputs": [
    {
     "name": "stdout",
     "output_type": "stream",
     "text": [
      "tensor([[-0.5020,  0.9592,  1.1724,  1.3761],\n",
      "        [-0.6913, -0.3048, -0.0084,  0.6502],\n",
      "        [ 0.7777, -0.3688,  0.0084,  1.7824],\n",
      "        [ 0.1823, -0.5389,  0.2256,  1.3743],\n",
      "        [-0.6789,  0.4575,  0.4984,  0.7230]], dtype=torch.float64)\n",
      "tensor([1, 1, 1, 0, 0])\n"
     ]
    }
   ],
   "execution_count": 64
  },
  {
   "metadata": {
    "ExecuteTime": {
     "end_time": "2024-07-30T02:30:16.666239Z",
     "start_time": "2024-07-30T02:30:16.660884Z"
    }
   },
   "cell_type": "code",
   "source": [
    "train_ds = TensorDataset(X_train, Y_train)\n",
    "train_dataloader_ = DataLoader(train_ds, batch_size=2, shuffle=False)\n",
    "train_features_, train_labels_ = next(iter(train_dataloader_))\n",
    "train_features_, train_labels_"
   ],
   "id": "f782f99a1a7b80ea",
   "outputs": [
    {
     "data": {
      "text/plain": [
       "(tensor([[-0.5020,  0.9592,  1.1724,  1.3761],\n",
       "         [-0.6913, -0.3048, -0.0084,  0.6502]], dtype=torch.float64),\n",
       " tensor([1, 1]))"
      ]
     },
     "execution_count": 65,
     "metadata": {},
     "output_type": "execute_result"
    }
   ],
   "execution_count": 65
  }
 ],
 "metadata": {
  "kernelspec": {
   "display_name": "Python 3",
   "language": "python",
   "name": "python3"
  },
  "language_info": {
   "codemirror_mode": {
    "name": "ipython",
    "version": 2
   },
   "file_extension": ".py",
   "mimetype": "text/x-python",
   "name": "python",
   "nbconvert_exporter": "python",
   "pygments_lexer": "ipython2",
   "version": "2.7.6"
  }
 },
 "nbformat": 4,
 "nbformat_minor": 5
}
