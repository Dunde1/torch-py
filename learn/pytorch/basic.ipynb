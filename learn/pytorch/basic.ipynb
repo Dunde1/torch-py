{
 "cells": [
  {
   "cell_type": "code",
   "id": "initial_id",
   "metadata": {
    "collapsed": true,
    "ExecuteTime": {
     "end_time": "2024-07-30T00:49:17.753455Z",
     "start_time": "2024-07-30T00:49:17.749990Z"
    }
   },
   "source": [
    "import torch\n",
    "import numpy as np\n",
    "import matplotlib.pyplot as plt\n",
    "\n",
    "torch.cuda.is_available()"
   ],
   "outputs": [
    {
     "data": {
      "text/plain": [
       "False"
      ]
     },
     "execution_count": 5,
     "metadata": {},
     "output_type": "execute_result"
    }
   ],
   "execution_count": 5
  },
  {
   "metadata": {
    "ExecuteTime": {
     "end_time": "2024-07-30T00:52:36.098822Z",
     "start_time": "2024-07-30T00:52:36.094515Z"
    }
   },
   "cell_type": "code",
   "source": [
    "a = np.ones((2, 3))\n",
    "print(a.dtype)\n",
    "\n",
    "b = torch.tensor(a)\n",
    "print(b.dtype)"
   ],
   "id": "6003a18fce63c15f",
   "outputs": [
    {
     "name": "stdout",
     "output_type": "stream",
     "text": [
      "float64\n",
      "torch.float64\n"
     ]
    }
   ],
   "execution_count": 6
  },
  {
   "metadata": {
    "ExecuteTime": {
     "end_time": "2024-07-30T00:58:36.958177Z",
     "start_time": "2024-07-30T00:58:36.953937Z"
    }
   },
   "cell_type": "code",
   "source": [
    "r = torch.rand((2, 3))\n",
    "print(r[1][1].item())\n",
    "print(r.device)"
   ],
   "id": "2ac86cd51538f11f",
   "outputs": [
    {
     "name": "stdout",
     "output_type": "stream",
     "text": [
      "0.6067072749137878\n",
      "cpu\n"
     ]
    }
   ],
   "execution_count": 10
  },
  {
   "metadata": {
    "ExecuteTime": {
     "end_time": "2024-07-30T01:06:38.218934Z",
     "start_time": "2024-07-30T01:06:38.210722Z"
    }
   },
   "cell_type": "code",
   "source": [
    "u = torch.tensor([1., -2., 3., 1., 5.])\n",
    "\n",
    "u.mean(), u.max(), u.min(), u.std()"
   ],
   "id": "59a2ab6e22fe9eed",
   "outputs": [
    {
     "data": {
      "text/plain": [
       "(tensor(1.6000), tensor(5.), tensor(-2.), tensor(2.6077))"
      ]
     },
     "execution_count": 19,
     "metadata": {},
     "output_type": "execute_result"
    }
   ],
   "execution_count": 19
  },
  {
   "metadata": {
    "ExecuteTime": {
     "end_time": "2024-07-30T01:08:15.490159Z",
     "start_time": "2024-07-30T01:08:15.485190Z"
    }
   },
   "cell_type": "code",
   "source": [
    "t_linspace = torch.linspace(0, 10, 100)\n",
    "print(t_linspace)"
   ],
   "id": "b46940c7efa76d30",
   "outputs": [
    {
     "name": "stdout",
     "output_type": "stream",
     "text": [
      "tensor([ 0.0000,  0.1010,  0.2020,  0.3030,  0.4040,  0.5051,  0.6061,  0.7071,\n",
      "         0.8081,  0.9091,  1.0101,  1.1111,  1.2121,  1.3131,  1.4141,  1.5152,\n",
      "         1.6162,  1.7172,  1.8182,  1.9192,  2.0202,  2.1212,  2.2222,  2.3232,\n",
      "         2.4242,  2.5253,  2.6263,  2.7273,  2.8283,  2.9293,  3.0303,  3.1313,\n",
      "         3.2323,  3.3333,  3.4343,  3.5354,  3.6364,  3.7374,  3.8384,  3.9394,\n",
      "         4.0404,  4.1414,  4.2424,  4.3434,  4.4444,  4.5455,  4.6465,  4.7475,\n",
      "         4.8485,  4.9495,  5.0505,  5.1515,  5.2525,  5.3535,  5.4545,  5.5556,\n",
      "         5.6566,  5.7576,  5.8586,  5.9596,  6.0606,  6.1616,  6.2626,  6.3636,\n",
      "         6.4646,  6.5657,  6.6667,  6.7677,  6.8687,  6.9697,  7.0707,  7.1717,\n",
      "         7.2727,  7.3737,  7.4747,  7.5758,  7.6768,  7.7778,  7.8788,  7.9798,\n",
      "         8.0808,  8.1818,  8.2828,  8.3838,  8.4848,  8.5859,  8.6869,  8.7879,\n",
      "         8.8889,  8.9899,  9.0909,  9.1919,  9.2929,  9.3939,  9.4949,  9.5960,\n",
      "         9.6970,  9.7980,  9.8990, 10.0000])\n"
     ]
    }
   ],
   "execution_count": 22
  },
  {
   "metadata": {
    "ExecuteTime": {
     "end_time": "2024-07-30T01:09:03.166862Z",
     "start_time": "2024-07-30T01:09:03.162144Z"
    }
   },
   "cell_type": "code",
   "source": [
    "t_arange = torch.arange(100, 200, 5)\n",
    "print(t_arange)"
   ],
   "id": "b33e232fd13aa8f2",
   "outputs": [
    {
     "name": "stdout",
     "output_type": "stream",
     "text": [
      "tensor([100, 105, 110, 115, 120, 125, 130, 135, 140, 145, 150, 155, 160, 165,\n",
      "        170, 175, 180, 185, 190, 195])\n"
     ]
    }
   ],
   "execution_count": 23
  }
 ],
 "metadata": {
  "kernelspec": {
   "display_name": "Python 3",
   "language": "python",
   "name": "python3"
  },
  "language_info": {
   "codemirror_mode": {
    "name": "ipython",
    "version": 2
   },
   "file_extension": ".py",
   "mimetype": "text/x-python",
   "name": "python",
   "nbconvert_exporter": "python",
   "pygments_lexer": "ipython2",
   "version": "2.7.6"
  }
 },
 "nbformat": 4,
 "nbformat_minor": 5
}
